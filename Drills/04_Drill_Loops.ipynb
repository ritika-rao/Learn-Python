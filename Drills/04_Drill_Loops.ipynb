{
 "cells": [
  {
   "cell_type": "markdown",
   "metadata": {},
   "source": [
    "# Exercises"
   ]
  },
  {
   "cell_type": "markdown",
   "metadata": {},
   "source": [
    "## Question 1"
   ]
  },
  {
   "cell_type": "markdown",
   "metadata": {},
   "source": [
    "**Input the value such that program prints thank you message 5 times.**"
   ]
  },
  {
   "cell_type": "code",
   "execution_count": 16,
   "metadata": {},
   "outputs": [
    {
     "name": "stdout",
     "output_type": "stream",
     "text": [
      "Type 3 to continue, anything else to quit.\n",
      "3\n",
      "Thank you for the 3.  Very kind of you.\n",
      "Type 3 to continue, anything else to quit.\n",
      "3\n",
      "Thank you for the 3.  Very kind of you.\n",
      "Type 3 to continue, anything else to quit.\n",
      "3\n",
      "Thank you for the 3.  Very kind of you.\n",
      "Type 3 to continue, anything else to quit.\n",
      "3\n",
      "Thank you for the 3.  Very kind of you.\n",
      "Type 3 to continue, anything else to quit.\n",
      "3\n",
      "Thank you for the 3.  Very kind of you.\n",
      "Type 3 to continue, anything else to quit.\n",
      "5\n",
      "That's not 3, so I'm quitting now.\n"
     ]
    }
   ],
   "source": [
    "print (\"Type 3 to continue, anything else to quit.\")\n",
    "someInput = input()\n",
    "\n",
    "# Keep looping as long as someInput ='3'\n",
    "while (someInput == '3'):\n",
    "    print (\"Thank you for the 3.  Very kind of you.\")\n",
    "    print (\"Type 3 to continue, anything else to quit.\")    # Body of the loop\n",
    "    someInput = input()                               #\n",
    "print (\"That's not 3, so I'm quitting now.\")"
   ]
  },
  {
   "cell_type": "markdown",
   "metadata": {},
   "source": [
    "## Question 2"
   ]
  },
  {
   "cell_type": "markdown",
   "metadata": {},
   "source": [
    "**Input the value such that program prints message 5 times.**"
   ]
  },
  {
   "cell_type": "code",
   "execution_count": 22,
   "metadata": {},
   "outputs": [
    {
     "name": "stdout",
     "output_type": "stream",
     "text": [
      "Enter the number: 6\n",
      "\n",
      "i = 1 Hello, how are you today? \n",
      "i = 2 Hello, how are you today? \n",
      "i = 3 Hello, how \n",
      "i = 4 Hello, how are you today? \n",
      "i = 5 Hello, how are you today? "
     ]
    }
   ],
   "source": [
    "x=int(input(\"Enter the number: \"))\n",
    "for i in range (1, x):\n",
    "    print ()\n",
    "    print ('i =', i,end=\" \") \n",
    "    print ('Hello, how',end=\" \") \n",
    "    if i == 3: \n",
    "        continue \n",
    "    print ('are you today?',end=\" \")"
   ]
  },
  {
   "cell_type": "markdown",
   "metadata": {},
   "source": [
    "## Question 3"
   ]
  },
  {
   "cell_type": "markdown",
   "metadata": {},
   "source": [
    "**Write a python program to find *factorial* of a number.**"
   ]
  },
  {
   "cell_type": "code",
   "execution_count": 2,
   "metadata": {},
   "outputs": [
    {
     "name": "stdout",
     "output_type": "stream",
     "text": [
      "The factorial of 7 is 5040\n"
     ]
    }
   ],
   "source": [
    "num = 7\n",
    "\n",
    "factorial = 1\n",
    "\n",
    "if num < 0:\n",
    "   print(\"Sorry, factorial does not exist for negative numbers\")\n",
    "elif num == 0:\n",
    "   print(\"The factorial of 0 is 1\")\n",
    "else:\n",
    "   for i in range(1,num + 1):\n",
    "       factorial = factorial*i\n",
    "   print(\"The factorial of\",num,\"is\",factorial)"
   ]
  },
  {
   "cell_type": "markdown",
   "metadata": {},
   "source": [
    "## Question 4"
   ]
  },
  {
   "cell_type": "markdown",
   "metadata": {},
   "source": [
    "**Write a program to check whether given number is a *prime number or not*.**"
   ]
  },
  {
   "cell_type": "code",
   "execution_count": 6,
   "metadata": {},
   "outputs": [
    {
     "name": "stdout",
     "output_type": "stream",
     "text": [
      "407 is not a prime number\n",
      "11 times 37 is 407\n"
     ]
    }
   ],
   "source": [
    "# Python program to check if the input number is prime or not\n",
    "\n",
    "num = 407\n",
    "\n",
    "# take input from the user\n",
    "# num = int(input(\"Enter a number: \"))\n",
    "\n",
    "# prime numbers are greater than 1\n",
    "if num > 1:\n",
    "   # check for factors\n",
    "   for i in range(2,num):\n",
    "       if (num % i) == 0:\n",
    "           print(num,\"is not a prime number\")\n",
    "           print(i,\"times\",num//i,\"is\",num)\n",
    "           break\n",
    "   else:\n",
    "       print(num,\"is a prime number\")\n",
    "       \n",
    "# if input number is less than\n",
    "# or equal to 1, it is not prime\n",
    "else:\n",
    "   print(num,\"is not a prime number\")"
   ]
  },
  {
   "cell_type": "markdown",
   "metadata": {},
   "source": [
    "## Question 5"
   ]
  },
  {
   "cell_type": "markdown",
   "metadata": {},
   "source": [
    "**Write a python program to print all *prime numbers* between two given numbers.**"
   ]
  },
  {
   "cell_type": "code",
   "execution_count": 2,
   "metadata": {},
   "outputs": [
    {
     "name": "stdout",
     "output_type": "stream",
     "text": [
      "Prime numbers between 900 and 1000 are:\n",
      "907\n",
      "911\n",
      "919\n",
      "929\n",
      "937\n",
      "941\n",
      "947\n",
      "953\n",
      "967\n",
      "971\n",
      "977\n",
      "983\n",
      "991\n",
      "997\n"
     ]
    }
   ],
   "source": [
    "lower = 900\n",
    "upper = 1000\n",
    "\n",
    "\n",
    "print(\"Prime numbers between\",lower,\"and\",upper,\"are:\")\n",
    "\n",
    "for num in range(lower,upper + 1):\n",
    "   # prime numbers are greater than 1\n",
    "   if num > 1:\n",
    "       for i in range(2,num):\n",
    "           if (num % i) == 0:\n",
    "               break\n",
    "       else:\n",
    "           print(num)"
   ]
  },
  {
   "cell_type": "markdown",
   "metadata": {},
   "source": [
    "## Question 6"
   ]
  },
  {
   "cell_type": "markdown",
   "metadata": {},
   "source": [
    "**Write a program to find *HCF* of two numbers.**"
   ]
  },
  {
   "cell_type": "code",
   "execution_count": 11,
   "metadata": {},
   "outputs": [
    {
     "name": "stdout",
     "output_type": "stream",
     "text": [
      "Enter number 1:54\n",
      "Enter number 2:24\n",
      "The H.C.F. of 54 and 24 is 6\n"
     ]
    }
   ],
   "source": [
    "x = int(input(\"Enter number 1:\"))\n",
    "y = int(input(\"Enter number 2:\"))\n",
    "if x > y:\n",
    "    smaller = y\n",
    "else:\n",
    "    smaller = x\n",
    "for i in range(1, smaller+1):\n",
    "    if((x % i == 0) and (y % i == 0)):\n",
    "            hcf = i\n",
    "\n",
    "print(\"The H.C.F. of\", x,\"and\", y,\"is\", hcf)"
   ]
  },
  {
   "cell_type": "markdown",
   "metadata": {},
   "source": [
    "## Question 7"
   ]
  },
  {
   "cell_type": "markdown",
   "metadata": {},
   "source": [
    "**Write a python program to print following pattern:**\n",
    "    "
   ]
  },
  {
   "cell_type": "markdown",
   "metadata": {},
   "source": [
    " **1**\n",
    "\n",
    " **1 2**\n",
    "\n",
    " **1 2 3**\n",
    "\n",
    " **1 2 3 4**\n",
    "\n",
    " **1 2 3 4 5**\n",
    "\n",
    " **1 2 3 4 5 6**"
   ]
  },
  {
   "cell_type": "code",
   "execution_count": 4,
   "metadata": {},
   "outputs": [
    {
     "name": "stdout",
     "output_type": "stream",
     "text": [
      "1 \n",
      "1 2 \n",
      "1 2 3 \n",
      "1 2 3 4 \n",
      "1 2 3 4 5 \n",
      "1 2 3 4 5 6 \n"
     ]
    }
   ],
   "source": [
    "for i in range(0, 6):\n",
    "    num = 1\n",
    "    for j in range(0, i+1):\n",
    "        print(num, end=\" \")\n",
    "        num = num + 1\n",
    "    print()"
   ]
  },
  {
   "cell_type": "markdown",
   "metadata": {},
   "source": [
    "## Question 8"
   ]
  },
  {
   "cell_type": "markdown",
   "metadata": {},
   "source": [
    "**(*Display the first days of each month*) Write a program that prompts the user to enter the year and first day of the year, and displays the first day of each month in the year on the console. \n",
    "For example, if the user entered year 2013, and 2 for *Tuesday, January 1, 2013*, your program should display the following output:**\n",
    "\n",
    "         January 1, 2013 is Tuesday\n",
    "         ...\n",
    "         December 1, 2013 is Sunday"
   ]
  },
  {
   "cell_type": "code",
   "execution_count": 28,
   "metadata": {},
   "outputs": [
    {
     "name": "stdout",
     "output_type": "stream",
     "text": [
      "Enter a year: 2016\n",
      "Enter the first day of the year: 2\n",
      "January 1, 2016 is Tuesday\n",
      "February 1, 2016 is Friday\n",
      "March 1, 2016 is Saturday\n",
      "April 1, 2016 is Tuesday\n",
      "May 1, 2016 is Thursday\n",
      "June 1, 2016 is Sunday\n",
      "July 1, 2016 is Tuesday\n",
      "August 1, 2016 is Friday\n",
      "September 1, 2016 is Monday\n",
      "October 1, 2016 is Wednesday\n",
      "November 1, 2016 is Saturday\n",
      "December 1, 2016 is Monday\n"
     ]
    }
   ],
   "source": [
    "# Prompt the user to enter input\n",
    "year = int(input(\"Enter a year: \"))\n",
    "firstDay = int(input(\"Enter the first day of the year: \"))\n",
    "\n",
    "numberOfDaysInMonth = 0\n",
    "\n",
    "# Display calendar for each month\n",
    "for month in range(1, 12 + 1):\n",
    "    # Display Calendar title\n",
    "    if month == 1:\n",
    "        print(\"January 1,\", year, \"is \", end = \"\")\n",
    "        numberOfDaysInMonth = 31\n",
    "    elif month == 2:\n",
    "        print(\"February 1,\", year, \"is \", end = \"\")\n",
    "        if (year % 400 == 0 or (year % 4 == 0 and year % 100 != 0)):\n",
    "            numberOfDaysInMonth = 29\n",
    "        else:\n",
    "            numberOfDaysInMonth = 28\n",
    "    elif month == 3:\n",
    "        print(\"March 1,\", year, \"is \", end = \"\")\n",
    "        numberOfDaysInMonth = 31\n",
    "    elif month == 4:\n",
    "        print(\"April 1,\", year, \"is \", end = \"\")\n",
    "        numberOfDaysInMonth = 30\n",
    "    elif month == 5:\n",
    "        print(\"May 1,\", year, \"is \", end = \"\")\n",
    "        numberOfDaysInMonth = 31\n",
    "    elif month == 6:\n",
    "        print(\"June 1,\", year, \"is \", end = \"\")\n",
    "        numberOfDaysInMonth = 30\n",
    "    elif month == 7:\n",
    "        print(\"July 1,\", year, \"is \", end = \"\")\n",
    "        numberOfDaysInMonth = 31\n",
    "    elif month == 8:\n",
    "        print(\"August 1,\", year, \"is \", end = \"\")\n",
    "        numberOfDaysInMonth = 31\n",
    "    elif month == 9:\n",
    "        print(\"September 1,\", year, \"is \", end = \"\")\n",
    "        numberOfDaysInMonth = 30\n",
    "    elif month == 10:\n",
    "        print(\"October 1,\", year, \"is \", end = \"\")\n",
    "        numberOfDaysInMonth = 31\n",
    "    elif month == 11:\n",
    "        print(\"November 1,\", year, \"is \", end = \"\")\n",
    "        numberOfDaysInMonth = 30\n",
    "    elif (month == 12):\n",
    "        print(\"December 1,\", year, \"is \", end = \"\")\n",
    "        numberOfDaysInMonth = 31\n",
    "\n",
    "    if firstDay == 0:\n",
    "        print(\"Sunday\") \n",
    "    elif firstDay == 1:\n",
    "        print(\"Monday\") \n",
    "    elif firstDay == 2:\n",
    "        print(\"Tuesday\") \n",
    "    elif firstDay == 3:\n",
    "        print(\"Wednesday\") \n",
    "    elif firstDay == 4:\n",
    "        print(\"Thursday\") \n",
    "    elif firstDay == 5:\n",
    "        print(\"Friday\") \n",
    "    elif firstDay == 6:\n",
    "        print(\"Saturday\") \n",
    "\n",
    "    # Get the start day for the next month\n",
    "    firstDay = (firstDay + numberOfDaysInMonth) % 7\n"
   ]
  },
  {
   "cell_type": "markdown",
   "metadata": {},
   "source": [
    "## Question 9"
   ]
  },
  {
   "cell_type": "markdown",
   "metadata": {},
   "source": [
    "**(*Financial application: compound value*) Suppose you save $100 each month into a savings account with the annual interest rate 5 percent. So, the monthly interest rate is 0.05/12 = 0.00417. After the first month, the value in the account becomes**\n",
    "\n",
    "                          100 * (1 + 0.00417) = 100.417\n",
    "\n",
    "**After the second month, the value in the account becomes**\n",
    "\n",
    "                    (100 + 100.417) * (1 + 0.00417) = 201.252\n",
    "\n",
    "**After the third month, the value in the account becomes**\n",
    "\n",
    "                       (100 + 201.252) * (1 + 0.00417) = 302.507 \n",
    "   \n",
    "**and so on.**\n",
    "\n",
    "**Write a program that prompts the user to enter an amount (e.g., 100), the annual interest rate (e.g., 5), and the number of months (e.g., 6), and displays the amount in the savings account after the given month.**"
   ]
  },
  {
   "cell_type": "code",
   "execution_count": 29,
   "metadata": {},
   "outputs": [
    {
     "name": "stdout",
     "output_type": "stream",
     "text": [
      "Enter the amount to be saved for each month: 2000\n",
      "Enter the annual interest rate: 12\n",
      "Enter the number of months: 3\n",
      "After the 3th month, the account value is 6120.802\n"
     ]
    }
   ],
   "source": [
    "monthlyDeposit = int(input(\"Enter the amount to be saved for each month: \"))\n",
    "    \n",
    "annualInterestRate = int(input(\"Enter the annual interest rate: \"))\n",
    "monthlyInterestRate = annualInterestRate / 1200\n",
    "\n",
    "numberOfMonths = int(input(\"Enter the number of months: \"))\n",
    "\n",
    "currentValue = monthlyDeposit * (1 + monthlyInterestRate)\n",
    "for i in range(1, numberOfMonths):\n",
    "    currentValue = (currentValue + monthlyDeposit) * (1 + monthlyInterestRate)\n",
    "\n",
    "print(\"After the \" + str(numberOfMonths) + \"th month, the account value is \" + str(currentValue))\n"
   ]
  },
  {
   "cell_type": "markdown",
   "metadata": {},
   "source": [
    "## Question 10"
   ]
  },
  {
   "cell_type": "markdown",
   "metadata": {},
   "source": [
    "**Revisit the project *Rock, Scissor and Paper* in Decisions.\n",
    "Revise the program to let the user play contin- uously until either the user or the computer wins more than two times consecutively.**"
   ]
  },
  {
   "cell_type": "code",
   "execution_count": 30,
   "metadata": {},
   "outputs": [
    {
     "name": "stdout",
     "output_type": "stream",
     "text": [
      "scissor (0), rock (1), paper (2): 0\n",
      "It is a draw\n",
      "scissor (0), rock (1), paper (2): 1\n",
      "You won\n",
      "scissor (0), rock (1), paper (2): 1\n",
      "It is a draw\n",
      "scissor (0), rock (1), paper (2): 1\n",
      "It is a draw\n",
      "scissor (0), rock (1), paper (2): 1\n",
      "You lost\n",
      "scissor (0), rock (1), paper (2): 1\n",
      "You lost\n",
      "scissor (0), rock (1), paper (2): 1\n",
      "You lost\n",
      "scissor (0), rock (1), paper (2): 1\n",
      "You won\n",
      "scissor (0), rock (1), paper (2): 1\n",
      "You won\n",
      "scissor (0), rock (1), paper (2): 1\n",
      "You won\n",
      "scissor (0), rock (1), paper (2): 1\n",
      "You lost\n",
      "scissor (0), rock (1), paper (2): 1\n",
      "You won\n",
      "scissor (0), rock (1), paper (2): 1\n",
      "You won\n",
      "scissor (0), rock (1), paper (2): 1\n",
      "You won\n",
      "You won more than two times\n"
     ]
    }
   ],
   "source": [
    "import random\n",
    "\n",
    "count = 0\n",
    "\n",
    "while count <= 2 or count <= -2:\n",
    "    # Generate scissor, rock, paper\n",
    "    computerNumber = random.randint(0, 2)\n",
    "\n",
    "    # Prompt the user to enter scissor, rock, or paper\n",
    "    userNumber = eval(input(\"scissor (0), rock (1), paper (2): \"))\n",
    "\n",
    "    # Check the guess\n",
    "    if computerNumber == 0:\n",
    "        if userNumber == 0:\n",
    "            print(\"It is a draw\")\n",
    "        elif userNumber == 1: \n",
    "            print(\"You won\")\n",
    "            count += 1       \n",
    "        elif userNumber == 2:\n",
    "            print(\"You lost\")\n",
    "            count -= 1\n",
    "    elif computerNumber == 1:\n",
    "        if userNumber == 0:\n",
    "            print(\"You lost\")\n",
    "            count -= 1\n",
    "        elif userNumber == 1:\n",
    "            print(\"It is a draw\")\n",
    "        elif userNumber == 2:\n",
    "            print(\"You won\")\n",
    "            count += 1\n",
    "    elif computerNumber == 2:\n",
    "        if userNumber == 0:\n",
    "            print(\"You won\")\n",
    "            count += 1       \n",
    "        elif userNumber == 1:\n",
    "            print(\"You lost\")\n",
    "            count -= 1\n",
    "        elif userNumber == 2: \n",
    "            print(\"It is a draw\")\n",
    "\n",
    "if count > 2: \n",
    "    print(\"You won more than two times\")\n",
    "else:\n",
    "    print(\"The computer won more than two times\")\n",
    "\n"
   ]
  },
  {
   "cell_type": "markdown",
   "metadata": {},
   "source": [
    "## Question 11"
   ]
  },
  {
   "cell_type": "markdown",
   "metadata": {},
   "source": [
    "**Write a program to print *multiplication table* for a given number.**"
   ]
  },
  {
   "cell_type": "code",
   "execution_count": 4,
   "metadata": {},
   "outputs": [
    {
     "name": "stdout",
     "output_type": "stream",
     "text": [
      "12 x 1 = 12\n",
      "12 x 2 = 24\n",
      "12 x 3 = 36\n",
      "12 x 4 = 48\n",
      "12 x 5 = 60\n",
      "12 x 6 = 72\n",
      "12 x 7 = 84\n",
      "12 x 8 = 96\n",
      "12 x 9 = 108\n",
      "12 x 10 = 120\n"
     ]
    }
   ],
   "source": [
    "num = 12\n",
    "\n",
    "for i in range(1, 11):\n",
    "   print(num,'x',i,'=',num*i)"
   ]
  },
  {
   "cell_type": "markdown",
   "metadata": {},
   "source": [
    "## Question 12"
   ]
  },
  {
   "cell_type": "markdown",
   "metadata": {},
   "source": [
    "**Write a program to check whether given number is a *armstrong number or not*.**"
   ]
  },
  {
   "cell_type": "code",
   "execution_count": null,
   "metadata": {},
   "outputs": [],
   "source": [
    "num = int(input(\"Enter a number: \"))\n",
    "\n",
    "sum = 0\n",
    "\n",
    "temp = num\n",
    "while temp > 0:\n",
    "   digit = temp % 10\n",
    "   sum += digit ** 3\n",
    "   temp //= 10\n",
    "\n",
    "if num == sum:\n",
    "   print(num,\"is an Armstrong number\")\n",
    "else:\n",
    "   print(num,\"is not an Armstrong number\")"
   ]
  },
  {
   "cell_type": "markdown",
   "metadata": {},
   "source": [
    "## Question 13"
   ]
  },
  {
   "cell_type": "markdown",
   "metadata": {},
   "source": [
    "**Write a program to print *fibonacci series* upto 10 values.**"
   ]
  },
  {
   "cell_type": "code",
   "execution_count": 3,
   "metadata": {},
   "outputs": [
    {
     "name": "stdout",
     "output_type": "stream",
     "text": [
      "Fibonacci sequence upto 10 :\n",
      "0 , 1 , 1 , 2 , 3 , 5 , 8 , 13 , 21 , 34 , "
     ]
    }
   ],
   "source": [
    "nterms = 10\n",
    "\n",
    "n1 = 0\n",
    "n2 = 1\n",
    "count = 0\n",
    "\n",
    "if nterms <= 0:\n",
    "   print(\"Please enter a positive integer\")\n",
    "elif nterms == 1:\n",
    "   print(\"Fibonacci sequence upto\",nterms,\":\")\n",
    "   print(n1)\n",
    "else:\n",
    "   print(\"Fibonacci sequence upto\",nterms,\":\")\n",
    "   while count < nterms:\n",
    "       print(n1,end=' , ')\n",
    "       nth = n1 + n2\n",
    "       n1 = n2\n",
    "       n2 = nth\n",
    "       count += 1"
   ]
  },
  {
   "cell_type": "markdown",
   "metadata": {},
   "source": [
    "## Question 14"
   ]
  },
  {
   "cell_type": "markdown",
   "metadata": {},
   "source": [
    "**Write a program to calculate the credit card balance after one year if a person only pays the minimum monthly payment required by the credit card company each month.**\n",
    "\n",
    "The following variables contain values as described below:\n",
    "\n",
    "balance - the outstanding balance on the credit card <br>\n",
    "**annualInterestRate** - annual interest rate as a decimal <br>\n",
    "**monthlyPaymentRate** - minimum monthly payment rate as a decimal\n",
    "\n",
    "**For each month, calculate statements on the monthly payment and remaining balance, and print to screen something of the following format:**\n",
    "\n",
    "**Month: 1 <br>\n",
    "**Minimum monthly payment:** 96.0 <br>\n",
    "**Remaining balance:** 4784.0 <br<\n",
    "Be sure to print out no more than two decimal digits of accuracy - so print\n",
    "\n",
    "**Remaining balance:** 813.41\n",
    "instead of\n",
    "**Remaining balance:** 813.4141998135\n",
    "\n",
    "Finally, print out the total amount paid that year and the remaining balance at the end of the year in the format: <br>\n",
    "**Total paid:** 96.0 <br>\n",
    "**Remaining balance:** 4784.0\n",
    "\n",
    "A summary of the required math is found below: <br>\n",
    "**Monthly interest rate**= (Annual interest rate) / 12.0 <br>\n",
    "**Minimum monthly payment** = (Minimum monthly payment rate) x (Previous balance) <br>\n",
    "**Monthly unpaid balance** = (Previous balance) - (Minimum monthly payment) <br>\n",
    "**Updated balance each month** = (Monthly unpaid balance) + (Monthly interest rate x Monthly unpaid balance)\n",
    "\n"
   ]
  },
  {
   "cell_type": "code",
   "execution_count": 3,
   "metadata": {},
   "outputs": [
    {
     "ename": "NameError",
     "evalue": "name 'monthlyPaymentRate' is not defined",
     "output_type": "error",
     "traceback": [
      "\u001b[0;31m---------------------------------------------------------------------------\u001b[0m",
      "\u001b[0;31mNameError\u001b[0m                                 Traceback (most recent call last)",
      "\u001b[0;32m<ipython-input-3-6184c69e7c97>\u001b[0m in \u001b[0;36m<module>\u001b[0;34m\u001b[0m\n\u001b[1;32m      3\u001b[0m \u001b[0mmonthlyInterestRate\u001b[0m \u001b[0;34m=\u001b[0m \u001b[0mannualInterestRate\u001b[0m \u001b[0;34m/\u001b[0m \u001b[0;36m12.0\u001b[0m\u001b[0;34m\u001b[0m\u001b[0;34m\u001b[0m\u001b[0m\n\u001b[1;32m      4\u001b[0m \u001b[0;32mfor\u001b[0m \u001b[0mmonth\u001b[0m \u001b[0;32min\u001b[0m \u001b[0mrange\u001b[0m\u001b[0;34m(\u001b[0m\u001b[0;36m12\u001b[0m\u001b[0;34m)\u001b[0m\u001b[0;34m:\u001b[0m               \u001b[0;31m#for loop to iterate through month 1 to 12.\u001b[0m\u001b[0;34m\u001b[0m\u001b[0;34m\u001b[0m\u001b[0m\n\u001b[0;32m----> 5\u001b[0;31m     \u001b[0mminimumMonthlyPayment\u001b[0m \u001b[0;34m=\u001b[0m \u001b[0mmonthlyPaymentRate\u001b[0m \u001b[0;34m*\u001b[0m \u001b[0mbalance\u001b[0m\u001b[0;34m\u001b[0m\u001b[0;34m\u001b[0m\u001b[0m\n\u001b[0m\u001b[1;32m      6\u001b[0m     \u001b[0mtotalPaid\u001b[0m \u001b[0;34m+=\u001b[0m \u001b[0mminimumMonthlyPayment\u001b[0m\u001b[0;34m\u001b[0m\u001b[0;34m\u001b[0m\u001b[0m\n\u001b[1;32m      7\u001b[0m     \u001b[0mbalance\u001b[0m \u001b[0;34m-=\u001b[0m \u001b[0mminimumMonthlyPayment\u001b[0m\u001b[0;34m\u001b[0m\u001b[0;34m\u001b[0m\u001b[0m\n",
      "\u001b[0;31mNameError\u001b[0m: name 'monthlyPaymentRate' is not defined"
     ]
    }
   ],
   "source": [
    "totalPaid=0\n",
    "annualInterestRate =16\n",
    "monthlypa\n",
    "monthlyInterestRate = annualInterestRate / 12.0\n",
    "for month in range(12):               #for loop to iterate through month 1 to 12.\n",
    "    minimumMonthlyPayment = monthlyPaymentRate * balance  \n",
    "    totalPaid += minimumMonthlyPayment\n",
    "    balance -= minimumMonthlyPayment\n",
    "    balance += balance * monthlyInterestRate\n",
    "    print (\"Month: \", str(month+1) )   #month increases by 1 in every loop.\n",
    "    print (\"Minimum monthly payment: \" , str(round(minimumMonthlyPayment, 2)))\n",
    "    print (\"Remaining balance: \" , str(round(balance, 2)))\n",
    "print (\"Total paid: \" , str(round(totalPaid, 2))  )     #out of for loop, prints the final amount to be paid.\n",
    "print (\"Remaining balance: \" , str(round(balance, 2)))"
   ]
  },
  {
   "cell_type": "code",
   "execution_count": null,
   "metadata": {},
   "outputs": [],
   "source": []
  }
 ],
 "metadata": {
  "kernelspec": {
   "display_name": "Python 3",
   "language": "python",
   "name": "python3"
  },
  "language_info": {
   "codemirror_mode": {
    "name": "ipython",
    "version": 3
   },
   "file_extension": ".py",
   "mimetype": "text/x-python",
   "name": "python",
   "nbconvert_exporter": "python",
   "pygments_lexer": "ipython3",
   "version": "3.6.8"
  }
 },
 "nbformat": 4,
 "nbformat_minor": 2
}
