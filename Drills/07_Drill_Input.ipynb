{
 "cells": [
  {
   "cell_type": "markdown",
   "metadata": {},
   "source": [
    "# Exercise"
   ]
  },
  {
   "cell_type": "markdown",
   "metadata": {},
   "source": [
    "## Question 1"
   ]
  },
  {
   "cell_type": "markdown",
   "metadata": {},
   "source": [
    "**In interactive mode, make two variables, one for your first name and one for your last name. Then, using a single print statement, print your first and last names together.**"
   ]
  },
  {
   "cell_type": "code",
   "execution_count": 1,
   "metadata": {},
   "outputs": [
    {
     "name": "stdout",
     "output_type": "stream",
     "text": [
      "Enter your First Name:Ritika\n",
      "Enter your Last Name:Rao\n",
      "NAME: Ritika Rao\n"
     ]
    }
   ],
   "source": [
    "a=str(input('Enter your First Name:'))\n",
    "b=str(input('Enter your Last Name:'))\n",
    "print('NAME:',a,b)"
   ]
  },
  {
   "cell_type": "markdown",
   "metadata": {},
   "source": [
    "## Question 2"
   ]
  },
  {
   "cell_type": "markdown",
   "metadata": {},
   "source": [
    "**Write a program that asks for your first name, then asks for your last name, and then\n",
    "prints a message with your first and last names in it.**"
   ]
  },
  {
   "cell_type": "code",
   "execution_count": 2,
   "metadata": {},
   "outputs": [
    {
     "name": "stdout",
     "output_type": "stream",
     "text": [
      "Enter your First Name:Ritika\n",
      "Enter your Last Name:Rao\n",
      "FIRST NAME: Ritika\n",
      "LAST NAME: Rao\n"
     ]
    }
   ],
   "source": [
    "a=str(input('Enter your First Name:'))\n",
    "b=str(input('Enter your Last Name:'))\n",
    "print('FIRST NAME:',a)\n",
    "print('LAST NAME:',b)"
   ]
  },
  {
   "cell_type": "markdown",
   "metadata": {},
   "source": [
    "## Question 3"
   ]
  },
  {
   "cell_type": "markdown",
   "metadata": {},
   "source": [
    "**Write a program that asks for the dimensions (in feet) of a rectangular room, and then\n",
    "calculates and displays the total amount of carpet needed to cover the room.**\n"
   ]
  },
  {
   "cell_type": "code",
   "execution_count": 2,
   "metadata": {},
   "outputs": [
    {
     "name": "stdout",
     "output_type": "stream",
     "text": [
      "Enter the lenght of room in feet:2\n",
      "Enter the breadth of room in feet:2\n",
      "Enter the heigth of room in feet:2\n",
      "Total amount of carpet needed: 8 ft\n"
     ]
    }
   ],
   "source": [
    "a=int(input('Enter the lenght of room in feet:'))\n",
    "b=int(input('Enter the breadth of room in feet:'))\n",
    "c=int(input('Enter the heigth of room in feet:'))\n",
    "vol= a*b*c\n",
    "print('Total amount of carpet needed:',vol,'ft')"
   ]
  },
  {
   "cell_type": "markdown",
   "metadata": {},
   "source": [
    "## Question 4"
   ]
  },
  {
   "cell_type": "markdown",
   "metadata": {},
   "source": [
    "**Write a program that does the same as in #3, but that also asks for the cost per square\n",
    "yard of carpet. Then have the program display these three things:**\n",
    "\n",
    "**•\tThe total amount of carpet, in square feet**\n",
    "\n",
    "**•\tThe total amount of carpet, in square yards (1 square yard = 9 square feet)**\n",
    "\n",
    "**•\tThe total cost of the carpet**\n"
   ]
  },
  {
   "cell_type": "code",
   "execution_count": 1,
   "metadata": {},
   "outputs": [
    {
     "name": "stdout",
     "output_type": "stream",
     "text": [
      "Enter the lenght of room in feet:2\n",
      "Enter the breadth of room in feet:2\n",
      "Enter the heigth of room in feet:2\n",
      "Enter the cost per square yards:2\n",
      "Total amount of carpet needed: 8 ft\n",
      "Total amount of carpet needed: 0.8888888888888888 sq.yards\n",
      "Total cost of carpet needed:$ 1.7777777777777777\n"
     ]
    }
   ],
   "source": [
    "a=int(input('Enter the lenght of room in feet:'))\n",
    "b=int(input('Enter the breadth of room in feet:'))\n",
    "c=int(input('Enter the heigth of room in feet:'))\n",
    "d=int(input('Enter the cost per square yards:'))\n",
    "vol= a*b*c\n",
    "VOL=a*b*c*(1/9)\n",
    "cost=VOL*d\n",
    "print('Total amount of carpet needed:',vol,'ft')\n",
    "print('Total amount of carpet needed:',VOL,'sq.yards')\n",
    "print('Total cost of carpet needed:$',cost)"
   ]
  },
  {
   "cell_type": "markdown",
   "metadata": {},
   "source": [
    "## Question 5"
   ]
  },
  {
   "cell_type": "markdown",
   "metadata": {},
   "source": [
    "**Write a program that helps the user add up her change. The program should ask**\n",
    "\n",
    "**•\t“How many quarters?”**\n",
    "\n",
    "**•\t“How many dimes?”**\n",
    "\n",
    "**•\t“How many nickels?”**\n",
    "\n",
    "**•\t“How many pennies?”**\n",
    "\n",
    "**Then it should give the total value of the change.**\n"
   ]
  },
  {
   "cell_type": "code",
   "execution_count": 3,
   "metadata": {},
   "outputs": [
    {
     "name": "stdout",
     "output_type": "stream",
     "text": [
      "How many quarters:4\n",
      "How many dimes:10\n",
      "How many nickels:20\n",
      "How many pennies:100\n",
      "Total amount is :$ 4.0\n"
     ]
    }
   ],
   "source": [
    "q=int(input('How many quarters:'))\n",
    "d=int(input('How many dimes:'))\n",
    "n=int(input('How many nickels:'))\n",
    "p=int(input('How many pennies:'))\n",
    "total=((q*25)+(d*10)+(n*5)+(p*1))/100\n",
    "print('Total amount is :$',total)"
   ]
  },
  {
   "cell_type": "markdown",
   "metadata": {},
   "source": [
    "## Question 6"
   ]
  },
  {
   "cell_type": "markdown",
   "metadata": {},
   "source": [
    "**Write a program that takes two integer arguments, x and y from user and prints Euclidean distance of the point (x,y) from (0,0).**"
   ]
  },
  {
   "cell_type": "code",
   "execution_count": 2,
   "metadata": {},
   "outputs": [
    {
     "name": "stdout",
     "output_type": "stream",
     "text": [
      "Enter the first cordinate:2\n",
      "Enter the second cordinate:2\n",
      "2.8284271247461903\n"
     ]
    }
   ],
   "source": [
    "a=int(input('Enter the first cordinate:'))\n",
    "b=int(input('Enter the second cordinate:'))\n",
    "d=((a*a)+(b*b))**0.5\n",
    "print(d)"
   ]
  },
  {
   "cell_type": "markdown",
   "metadata": {},
   "source": [
    "## Question 7"
   ]
  },
  {
   "cell_type": "markdown",
   "metadata": {},
   "source": [
    "**Write a program that takes two integer arguments x and y from user and swaps their values. After each assignment statement, print a trace of the variables.**\n"
   ]
  },
  {
   "cell_type": "code",
   "execution_count": 6,
   "metadata": {},
   "outputs": [
    {
     "name": "stdout",
     "output_type": "stream",
     "text": [
      "Enter the first Variable: 6\n",
      "Enter the second Variable: 8\n",
      "First Variable(a): 6 and Second Variable(b): 8\n",
      " \n",
      "After interchanging: \n",
      "First Variable(a): 8 and Second Variable(b): 6 \n"
     ]
    }
   ],
   "source": [
    "a=int(input('Enter the first Variable: '))\n",
    "b=int(input('Enter the second Variable: '))\n",
    "print(f'First Variable(a): {a} and Second Variable(b): {b}\\n ')\n",
    "temp=b\n",
    "b=a\n",
    "a=temp\n",
    "print('After interchanging: ')\n",
    "print(f'First Variable(a): {a} and Second Variable(b): {b} ')"
   ]
  }
 ],
 "metadata": {
  "kernelspec": {
   "display_name": "Python 3",
   "language": "python",
   "name": "python3"
  },
  "language_info": {
   "codemirror_mode": {
    "name": "ipython",
    "version": 3
   },
   "file_extension": ".py",
   "mimetype": "text/x-python",
   "name": "python",
   "nbconvert_exporter": "python",
   "pygments_lexer": "ipython3",
   "version": "3.7.6"
  }
 },
 "nbformat": 4,
 "nbformat_minor": 2
}
