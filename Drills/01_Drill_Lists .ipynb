{
 "cells": [
  {
   "cell_type": "markdown",
   "metadata": {},
   "source": [
    "# Exercises"
   ]
  },
  {
   "cell_type": "markdown",
   "metadata": {},
   "source": [
    "## Question 1"
   ]
  },
  {
   "cell_type": "markdown",
   "metadata": {},
   "source": [
    "**Write a program to ask the user for five names. The program should store the names in a list and print them all out at the end. It should look something like this:**\n",
    "\n",
    "**Enter 5 names: \n",
    "<br>Tony \n",
    "<br>Paul \n",
    "<br>Nick \n",
    "<br>Michel \n",
    "<br>Kevin \n",
    "<br>The names are Tony Paul Nick Michel Kevin**"
   ]
  },
  {
   "cell_type": "code",
   "execution_count": 13,
   "metadata": {},
   "outputs": [
    {
     "name": "stdout",
     "output_type": "stream",
     "text": [
      "enter name: Tony\n",
      "enter name: Paul\n",
      "enter name: Nick\n",
      "enter name: Michel\n",
      "enter name: Kevin\n",
      "<class 'list'>\n",
      "The names are:  ['Tony', 'Paul', 'Nick', 'Michel', 'Kevin']\n"
     ]
    },
    {
     "data": {
      "text/plain": [
       "['Tony', 'Paul', 'Nick', 'Michel', 'Kevin']"
      ]
     },
     "execution_count": 13,
     "metadata": {},
     "output_type": "execute_result"
    }
   ],
   "source": [
    "l=[]\n",
    "for i in range(5):\n",
    "    names = input('enter name: ')\n",
    "    l.append(names)\n",
    "    \n",
    "print(type(l))\n",
    "print('The names are: ' , l)\n",
    "l"
   ]
  },
  {
   "cell_type": "markdown",
   "metadata": {},
   "source": [
    "## Question 2"
   ]
  },
  {
   "cell_type": "markdown",
   "metadata": {},
   "source": [
    "**Modify the program from question #1 to print both the original list of names and a sorted list.**"
   ]
  },
  {
   "cell_type": "code",
   "execution_count": 14,
   "metadata": {},
   "outputs": [
    {
     "name": "stdout",
     "output_type": "stream",
     "text": [
      "['Kevin', 'Michel', 'Nick', 'Paul', 'Tony']\n"
     ]
    }
   ],
   "source": [
    "l.sort()\n",
    "print(l)"
   ]
  },
  {
   "cell_type": "markdown",
   "metadata": {},
   "source": [
    "## Question 3"
   ]
  },
  {
   "cell_type": "markdown",
   "metadata": {},
   "source": [
    "**Modify the program from question #1 to display only the third name the user typed in, like this:**\n",
    "\n",
    "**The third name you entered is: Nick**"
   ]
  },
  {
   "cell_type": "code",
   "execution_count": 15,
   "metadata": {},
   "outputs": [
    {
     "data": {
      "text/plain": [
       "'Nick'"
      ]
     },
     "execution_count": 15,
     "metadata": {},
     "output_type": "execute_result"
    }
   ],
   "source": [
    "l[2]"
   ]
  },
  {
   "cell_type": "markdown",
   "metadata": {},
   "source": [
    "## Question 4"
   ]
  },
  {
   "cell_type": "markdown",
   "metadata": {},
   "source": [
    "**Modify the program from question #1 to let the user replace one of the names. He or she should be able to choose which name to replace and then type in the new name.**\n",
    "\n",
    "Finally, display the new list like this:\n",
    "<br>Enter 5 names: \n",
    "<br>Tony \n",
    "<br>Paul \n",
    "<br>Nick \n",
    "<br>Michel \n",
    "<br>Kevin \n",
    "<br>The names are Tony Paul Nick Michel Kevin \n",
    "<br>Replace one name. Which one? (1-5): Kevin \n",
    "<br>New name: Peter \n",
    "<br>The names are Tony Paul Nick Peter Kevin"
   ]
  },
  {
   "cell_type": "code",
   "execution_count": 16,
   "metadata": {},
   "outputs": [
    {
     "name": "stdout",
     "output_type": "stream",
     "text": [
      "enter which name to replace: Kevin\n",
      "enter new name: Peter\n",
      "['Peter', 'Michel', 'Nick', 'Paul', 'Tony']\n"
     ]
    }
   ],
   "source": [
    "replace = input('enter which name to replace: ')\n",
    "new_name = input('enter new name: ')\n",
    "replace.lower()\n",
    "if (replace in l):\n",
    "    ind = l.index(replace)\n",
    "    l[ind] = new_name\n",
    "print (l)\n",
    "    "
   ]
  },
  {
   "cell_type": "markdown",
   "metadata": {},
   "source": [
    "## Question 5"
   ]
  },
  {
   "cell_type": "markdown",
   "metadata": {},
   "source": [
    "**Write a dictionary program that lets users enter certain words and definitions and then look them up later. Make sure you let the user know if their word isn’t in the dictionary yet. It should look something like this when it runs:**\n",
    "\n",
    "Add or look up a word (a/l)? a <br>\n",
    "Type the word: computer <br>\n",
    "Type the definition: A machine that does very fast math <br>\n",
    "Word added! <br>\n",
    "Add or look up a word (a/l)? l <br>\n",
    "Type the word: computer<br>\n",
    "A machine that does very fast math <br>\n",
    "Add or look up a word (a/l)? l<br>\n",
    "Type the word: qwerty<br>\n",
    "That word isn't in the dictionary yet.<br>"
   ]
  },
  {
   "cell_type": "code",
   "execution_count": 18,
   "metadata": {},
   "outputs": [
    {
     "name": "stdout",
     "output_type": "stream",
     "text": [
      "Add or lookup a word(a/l): a\n",
      "type the word: data\n",
      "type the definition: It is raw collection\n",
      "Add or lookup a word(a/l): l\n",
      "type the word: data\n",
      "It is raw collection\n",
      "Add or lookup a word(a/l): qwerty\n"
     ]
    }
   ],
   "source": [
    "d={}\n",
    "while (True):\n",
    "    \n",
    "    question = input('Add or lookup a word(a/l): ')\n",
    "    if (question == 'a'):\n",
    "        word = input('type the word: ')\n",
    "        definition = input('type the definition: ')\n",
    "        d[word] = definition\n",
    "    elif (question == 'l'):\n",
    "        word = input('type the word: ')\n",
    "        if (word in d.keys()):\n",
    "            print(d[word])\n",
    "        else:\n",
    "            print('this word doesnot exists')\n",
    "    else:\n",
    "        break;"
   ]
  },
  {
   "cell_type": "markdown",
   "metadata": {},
   "source": [
    "## Question 6"
   ]
  },
  {
   "cell_type": "markdown",
   "metadata": {},
   "source": [
    "**Write a Python program that prints first 50 prime numbers.**\n",
    "\n",
    "**A number n is prime by checking whether 2, 3, 4, 5, 6, ..., n/2 is a divisor for n. If a divisor is found, n is not prime.**\n",
    "\n",
    "**An efficient approach is to check whether any of the prime numbers less than or equal to 2n can divide n evenly. If not, n is prime.**\n",
    "\n",
    "**Display first 50 prime numbers using this approach.**\n",
    "\n",
    "You need to use a list to store the prime numbers and later use them to check whether they are possible divisors for n or not.\n"
   ]
  },
  {
   "cell_type": "code",
   "execution_count": 29,
   "metadata": {},
   "outputs": [
    {
     "name": "stdout",
     "output_type": "stream",
     "text": [
      "The first 50 prime numbers are \n",
      "\n",
      "2 3 5 7 11 13 17 19 23 29\n",
      "31 37 41 43 47 53 59 61 67 71\n",
      "73 79 83 89 97 101 103 107 109 113\n",
      "127 131 137 139 149 151 157 163 167 173\n",
      "179 181 191 193 197 199 211 223 227 229\n"
     ]
    }
   ],
   "source": [
    "import math\n",
    "\n",
    "NUM_OF_PRIMES = 50\n",
    "# Store prime numbers\n",
    "primeNumbers = []\n",
    "\n",
    "count = 0 # Count the number of prime numbers\n",
    "number = 2 # A number to be tested for primeness\n",
    "isPrime = True # Is the current number prime?\n",
    "\n",
    "print(\"The first 50 prime numbers are \\n\")\n",
    "\n",
    "# Repeatedly find prime numbers\n",
    "while count < NUM_OF_PRIMES:\n",
    "    # Assume the number is prime\n",
    "    isPrime = True\n",
    "\n",
    "    i = 0 \n",
    "    while i < count and primeNumbers[i] <= math.sqrt(number):\n",
    "        #If true, the number is not prime\n",
    "        if number % primeNumbers[i] == 0:\n",
    "            # Set isPrime to false, if the number is not prime\n",
    "            isPrime = False\n",
    "            break # Exit the for loop\n",
    "        \n",
    "        i += 1\n",
    "\n",
    "    # Print the prime number and increase the count\n",
    "    if isPrime:\n",
    "        primeNumbers.append(number)\n",
    "        count += 1 # Increase the count\n",
    "\n",
    "        if count % 10 == 0:\n",
    "            # Print the number and advance to the new line\n",
    "            print(number)\n",
    "        else:\n",
    "            print(number, end = \" \")\n",
    "\n",
    "    # Check if the next number is prime\n",
    "    number += 1"
   ]
  },
  {
   "cell_type": "markdown",
   "metadata": {},
   "source": [
    "## Question 7"
   ]
  },
  {
   "cell_type": "markdown",
   "metadata": {},
   "source": [
    "**Write a python program that prompt the user to enter a list of numbers and returns the index of the smallest element in a list of integers.**\n",
    "\n",
    "**If the number of occurrence of smallest element is greater than 1, return the smallest index.**"
   ]
  },
  {
   "cell_type": "code",
   "execution_count": 33,
   "metadata": {},
   "outputs": [
    {
     "name": "stdout",
     "output_type": "stream",
     "text": [
      "Enter scores separated by spaces from one line: 34 45\n",
      "The index of the smallest element is 0\n"
     ]
    }
   ],
   "source": [
    "# Read numbers as a string from the console\n",
    "s = input(\"Enter scores separated by spaces from one line: \") \n",
    "items = s.split() # Extracts items from the string\n",
    "\n",
    "min = items[0]\n",
    "minIndex = 0\n",
    "\n",
    "for i in range(1, len(items)):\n",
    "    if min > items[i]:\n",
    "        min = items[i]\n",
    "        minIndex = i\n",
    "\n",
    "print(\"The index of the smallest element is\", minIndex)\n"
   ]
  },
  {
   "cell_type": "markdown",
   "metadata": {},
   "source": [
    "## Question 8"
   ]
  },
  {
   "cell_type": "markdown",
   "metadata": {},
   "source": [
    "**Write a Python program that prompts the user to enter a list of numbers and partitions the list according to pivot element.**\n",
    "\n",
    "The first element in the list is called pivot element.\n",
    "\n",
    "**The Python program should partition the elements in the list in such a way that list elements are rearranged so that all the elements before the pivot are less than or equal to the pivot and the element after the pivot are greater than the pivot.**\n",
    "\n",
    "For example, suppose the list is [5, 2, 9, 3, 6, 8].\n",
    "After the partition, the list becomes [3, 2, 5, 9, 6, 8]."
   ]
  },
  {
   "cell_type": "code",
   "execution_count": 38,
   "metadata": {},
   "outputs": [
    {
     "name": "stdout",
     "output_type": "stream",
     "text": [
      "Enter a list: 5 2 9 3 6 8\n",
      "After the partition, the list is ['3', '2', '5', '9', '6', '8']\n"
     ]
    }
   ],
   "source": [
    "s = input(\"Enter a list: \") \n",
    "items = s.split() # Extracts items from the string\n",
    "\n",
    "pivot = items[0]  # Choose the first element as the pivot\n",
    "low = 1  # Index for forward search\n",
    "high = len(items) - 1  # Index for backward search\n",
    "\n",
    "while high > low:\n",
    "    # Search forward from left\n",
    "    while low <= high and items[low] <= pivot:\n",
    "        low += 1\n",
    "\n",
    "    # Search backward from right\n",
    "    while low <= high and items[high] > pivot:\n",
    "        high -= 1\n",
    "\n",
    "# Swap two elements in the list\n",
    "    if high > low:\n",
    "        items[high], items[low] = items[low], items[high]\n",
    "\n",
    "while high > 1 and items[high] >= pivot:\n",
    "    high -= 1\n",
    "\n",
    "# Swap pivot with list[high]\n",
    "if pivot > items[high]:\n",
    "    items[0] = items[high]\n",
    "    items[high] = pivot\n",
    "\n",
    "print(\"After the partition, the list is \", end = \"\")\n",
    "print (items)"
   ]
  },
  {
   "cell_type": "markdown",
   "metadata": {},
   "source": [
    "## Question 9"
   ]
  },
  {
   "cell_type": "markdown",
   "metadata": {},
   "source": [
    "**Write a python program that computes the weekly hours for each employee.**\n",
    "\n",
    "Suppose the weekly hours for all employees are stored in a table (list of lists). Each row records an employee’s seven-day work hours with seven columns like:\n",
    "<br>  &emsp;&emsp;&emsp;&emsp;  &emsp;&emsp;   &emsp;        Su M &nbsp;T&nbsp; W&nbsp; Th F&nbsp; Sa\n",
    "<br>Employee 0 &emsp;   2 &nbsp;&nbsp; 4&nbsp; 3&nbsp; 4&nbsp; 5&nbsp; &nbsp; 8&nbsp;  8\n",
    "<br>Employee 1 &emsp;  7 &nbsp;&nbsp; 3&nbsp; 4&nbsp; 3 &nbsp;3  &nbsp;&nbsp;4 &nbsp; 4\n",
    "<br>Employee 2 &emsp;  3 &nbsp;&nbsp;3 &nbsp;4&nbsp; 3 &nbsp;3  &nbsp;&nbsp;2 &nbsp; 2\n",
    "<br>Employee 3 &emsp;  9 &nbsp;&nbsp;3 &nbsp;4&nbsp; 7 &nbsp;3 &nbsp;&nbsp; 4 &nbsp; 1\n",
    "<br>Employee 4 &emsp;  3 &nbsp;&nbsp;5 &nbsp;4&nbsp; 3 &nbsp;6 &nbsp;&nbsp; 3 &nbsp; 8\n",
    "<br>Employee 5 &emsp;  3 &nbsp;&nbsp;4 &nbsp;4&nbsp; 6 &nbsp;3 &nbsp;&nbsp; 4 &nbsp; 4\n",
    "<br>Employee 6 &emsp;  3 &nbsp;&nbsp;7 &nbsp;4&nbsp; 8 &nbsp;3  &nbsp;&nbsp;8 &nbsp; 4\n",
    "<br>Employee 7 &emsp;  6 &nbsp;&nbsp;3 &nbsp;5&nbsp; 9 &nbsp;2 &nbsp;&nbsp; 7 &nbsp; 9\n",
    "\n",
    "**Write a program that displays employees and their total hours in decreasing order of the total hours.**"
   ]
  },
  {
   "cell_type": "code",
   "execution_count": 39,
   "metadata": {},
   "outputs": [
    {
     "name": "stdout",
     "output_type": "stream",
     "text": [
      "Employee 2: 20\n",
      "Employee 1: 28\n",
      "Employee 5: 28\n",
      "Employee 3: 31\n",
      "Employee 4: 32\n",
      "Employee 0: 34\n",
      "Employee 6: 37\n",
      "Employee 7: 41\n"
     ]
    }
   ],
   "source": [
    "# Declare, create, and initialized list of lists\n",
    "workHours = [\n",
    "    [2, 4, 3, 4, 5, 8, 8],\n",
    "    [7, 3, 4, 3, 3, 4, 4],\n",
    "    [3, 3, 4, 3, 3, 2, 2],\n",
    "    [9, 3, 4, 7, 3, 4, 1],\n",
    "    [3, 5, 4, 3, 6, 3, 8],\n",
    "    [3, 4, 4, 6, 3, 4, 4],\n",
    "    [3, 7, 4, 8, 3, 8, 4],\n",
    "    [6, 3, 5, 9, 2, 7, 9]]\n",
    "\n",
    "# Create an array to store total weekly hours\n",
    "weeklyHours = []\n",
    "for i in range(len(workHours)):\n",
    "    weeklyHours.append([sum(workHours[i]), i])\n",
    "    \n",
    "weeklyHours.sort()\n",
    "\n",
    "# Display result\n",
    "for empolyeeHours in weeklyHours:\n",
    "    print(\"Employee \" + str(empolyeeHours[1]) + \": \" + str(empolyeeHours[0]))"
   ]
  },
  {
   "cell_type": "code",
   "execution_count": null,
   "metadata": {},
   "outputs": [],
   "source": []
  }
 ],
 "metadata": {
  "kernelspec": {
   "display_name": "Python 3",
   "language": "python",
   "name": "python3"
  },
  "language_info": {
   "codemirror_mode": {
    "name": "ipython",
    "version": 3
   },
   "file_extension": ".py",
   "mimetype": "text/x-python",
   "name": "python",
   "nbconvert_exporter": "python",
   "pygments_lexer": "ipython3",
   "version": "3.6.8"
  }
 },
 "nbformat": 4,
 "nbformat_minor": 2
}
