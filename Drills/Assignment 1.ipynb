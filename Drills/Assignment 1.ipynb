{
 "cells": [
  {
   "cell_type": "markdown",
   "metadata": {},
   "source": [
    "# Assignment 1 (20 Marks)"
   ]
  },
  {
   "cell_type": "markdown",
   "metadata": {},
   "source": [
    "## Question 1"
   ]
  },
  {
   "cell_type": "markdown",
   "metadata": {},
   "source": [
    "**Paragraph Problem (5 Marks)**"
   ]
  },
  {
   "cell_type": "markdown",
   "metadata": {},
   "source": [
    "Input a paragraph from user (minimum 5 lines and each must contains 5 words atleast).\n",
    "1. Count and print the number of stop words in paragraph. (Stop words would be \"a, the, an, is, are\").\n",
    "2. Count and print the 3 - letter words in a paragraph (such as the, cat, bat).\n",
    "3. Count and print the maximum length word in paragraph.\n",
    "4. Count and print the words which started from the letter - 'A'."
   ]
  },
  {
   "cell_type": "code",
   "execution_count": 39,
   "metadata": {
    "scrolled": true
   },
   "outputs": [
    {
     "name": "stdout",
     "output_type": "stream",
     "text": [
      "Enter the para:Secret agents are super good at staying hidden.\n",
      "Total stop words are: 1\n",
      "Occurence of 3 letter words is 1\n",
      "Maximum word length is 7\n",
      "Total no. of words starting from \"a\" are 3\n"
     ]
    }
   ],
   "source": [
    "para=input('Enter the para:')\n",
    "lst=para.split()\n",
    "#print(lst)\n",
    "n1=lst.count('a')\n",
    "n2=lst.count('an')\n",
    "n3=lst.count('the')\n",
    "n4=lst.count('is')\n",
    "n5=lst.count('are')\n",
    "Total=n1+n2+n3+n4+n5\n",
    "print('Total stop words are:',Total)\n",
    "lis1=list(map(len, para.split()))\n",
    "#print('length of each words is',lis1)\n",
    "print('Occurence of 3 letter words is',lis1.count(3))\n",
    "print('Maximum word length is',max(lis1)) \n",
    "lst2=[]\n",
    "counter=0\n",
    "for char in lst:\n",
    "    lst2.append(char[0])\n",
    "#print(lst2)\n",
    "print('Total no. of words starting from \"a\" are',lst2.count('a'))"
   ]
  },
  {
   "cell_type": "markdown",
   "metadata": {},
   "source": [
    "## Question 2"
   ]
  },
  {
   "cell_type": "markdown",
   "metadata": {},
   "source": [
    "**Password Validation (5 Marks)**"
   ]
  },
  {
   "cell_type": "markdown",
   "metadata": {},
   "source": [
    "User will enter a password and you have to print that password is valid or not by checking these following conditions - \n",
    "1. Password should contain exactly 2 digits in ascending order such as 1podf2, 3jfgi7 etc.\n",
    "2. Minimum length of password should be 10.\n",
    "3. Maximum length of password should be 20.\n",
    "4. Password should conatains atleast 3 vowels.\n",
    "5. Password should contains atmost 4 consonants."
   ]
  },
  {
   "cell_type": "code",
   "execution_count": 74,
   "metadata": {},
   "outputs": [
    {
     "name": "stdout",
     "output_type": "stream",
     "text": [
      "UR PASSWORD: 7Saloniyadav9\n",
      "Password length correct\n",
      "sufficient vowels\n",
      "2 no. compulsory condn fulfilled\n",
      "digits r in ascending order\n",
      "insufficient consonent \n",
      "if all the condn r fulfilled u can choose this password else re-enter ur password\n"
     ]
    }
   ],
   "source": [
    "import re\n",
    "text =input('UR PASSWORD: ')\n",
    "password = []\n",
    "for i in range(0, len(text)):\n",
    "    password.append(text[i])\n",
    "    i+=1\n",
    "#print('password length',i)\n",
    "if(i>=10 and i<21):\n",
    "    print('Password length correct')\n",
    "else:\n",
    "    print('Enter password of proper length')\n",
    "n1=password.count('a')\n",
    "n2=password.count('e')\n",
    "n3=password.count('i')\n",
    "n4=password.count('o')\n",
    "n5=password.count('u')\n",
    "TOTAL=n1+n2+n3+n4+n5\n",
    "if(TOTAL>=3):\n",
    "    print('sufficient vowels')\n",
    "else:\n",
    "    print('Insufficient vowels')\n",
    "lst3=re.findall('\\d+',text)\n",
    "#print(lst3)\n",
    "if(len(lst3)==2):\n",
    "    print('2 no. compulsory condn fulfilled')\n",
    "else:\n",
    "    print('2 no. compulsory condn unfulfilled')    \n",
    "if(lst[0]<lst[1]):\n",
    "    print('digits r in ascending order')\n",
    "else:\n",
    "    print('digits r nt in ascending order')\n",
    "conso=len(password)-(TOTAL-2)\n",
    "if(conso<=4):\n",
    "    print('sufficient Consonent')\n",
    "else:\n",
    "    print('insufficient consonent ')\n",
    "print('if all the condn r fulfilled u can choose this password else re-enter ur password')"
   ]
  },
  {
   "cell_type": "markdown",
   "metadata": {},
   "source": [
    " Question 3"
   ]
  },
  {
   "cell_type": "markdown",
   "metadata": {},
   "source": [
    "**Randomized Ludo Game (10 Marks)**"
   ]
  },
  {
   "cell_type": "markdown",
   "metadata": {},
   "source": [
    "Make a randomized ludo game for 2 players. And print which players gets win and by how many points. Use the following conditions -\n",
    "1. Each player will have 5 turns exactly in alternate fashion. So, total there are 10 turns.\n",
    "2. Use random number to generate the numbers from 1 to 6 each time the player gets the turn.\n",
    "3. Each player will get points according to the number he gets from random number.\n",
    "4. If a player gets 6 from random number generator, +10 points will be added to that player's count.\n",
    "5. If a player gets 4 or 5 from random number generator, +5 points will be added to that player's count.\n",
    "6. If a player gets 2 or 3 from random number generator, +3 points will be added to that player's count.\n",
    "7. If a player gets 1 from random number generator, +1 points will be added to that player's count."
   ]
  },
  {
   "cell_type": "code",
   "execution_count": 2,
   "metadata": {},
   "outputs": [
    {
     "name": "stdout",
     "output_type": "stream",
     "text": [
      "Red and Blue color players\n",
      "\n",
      "\"RED\" die value 4\n",
      "\"BLUE\" die value: 6\n",
      "\"RED\" die value 1\n",
      "\"BLUE\" die value: 6\n",
      "\"RED\" die value 2\n",
      "\"BLUE\" die value: 1\n",
      "\"RED\" die value 1\n",
      "\"BLUE\" die value: 5\n",
      "\"RED\" die value 5\n",
      "\"BLUE\" die value: 5\n",
      "\n",
      "SCORE of RED : 15\n",
      "SCORE of BLUE : 31\n",
      "\n",
      "\"BLUE\" is WINNER\n"
     ]
    }
   ],
   "source": [
    "import random\n",
    "print('Red and Blue color players')\n",
    "print(\"\")\n",
    "int='123456'\n",
    "value1=\"\"\n",
    "value2=\"\"\n",
    "lst1=[]\n",
    "lst2=[]\n",
    "for i in range(5):\n",
    "    value1=\"\"\n",
    "    value2=\"\"\n",
    "    for p in range(1):\n",
    "        value1+=random.choice(int)\n",
    "        print('\"RED\" die value',value1)\n",
    "        lst1.append(value1)\n",
    "    for q in range(1):\n",
    "        value2+=random.choice(int)\n",
    "        print('\"BLUE\" die value:',value2)\n",
    "        lst2.append(value2)\n",
    "\n",
    "#print(lst1)\n",
    "#print(lst2)\n",
    "x6=lst1.count('6')\n",
    "y6=lst2.count('6')\n",
    "x5=lst1.count('5')\n",
    "y5=lst2.count('5')\n",
    "x4=lst1.count('4')\n",
    "y4=lst2.count('4')\n",
    "x3=lst1.count('3')\n",
    "y3=lst2.count('3')\n",
    "x2=lst1.count('2')\n",
    "y2=lst2.count('2')\n",
    "x1=lst1.count('1')\n",
    "y1=lst2.count('1')\n",
    "SUM1=(10*x6) + (5*(x5+x4)) + (3*(x3+x2)) + x1\n",
    "SUM2=(10*y6) + (5*(y5+y4)) + (3*(y3+y2)) + y1\n",
    "print(\"\")\n",
    "print('SCORE of RED :',SUM1)\n",
    "print('SCORE of BLUE :',SUM2)\n",
    "print(\"\")\n",
    "if(SUM1 > SUM2):\n",
    "    print('\"RED\" is WINNER')\n",
    "else:\n",
    "    print('\"BLUE\" is WINNER')"
   ]
  },
  {
   "cell_type": "code",
   "execution_count": null,
   "metadata": {},
   "outputs": [],
   "source": []
  }
 ],
 "metadata": {
  "kernelspec": {
   "display_name": "Python 3",
   "language": "python",
   "name": "python3"
  },
  "language_info": {
   "codemirror_mode": {
    "name": "ipython",
    "version": 3
   },
   "file_extension": ".py",
   "mimetype": "text/x-python",
   "name": "python",
   "nbconvert_exporter": "python",
   "pygments_lexer": "ipython3",
   "version": "3.7.3"
  }
 },
 "nbformat": 4,
 "nbformat_minor": 2
}
