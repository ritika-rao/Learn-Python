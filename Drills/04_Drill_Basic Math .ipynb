{
 "cells": [
  {
   "cell_type": "markdown",
   "metadata": {},
   "source": [
    "# Exercise"
   ]
  },
  {
   "cell_type": "markdown",
   "metadata": {},
   "source": [
    "## Question 1"
   ]
  },
  {
   "cell_type": "markdown",
   "metadata": {},
   "source": [
    "**Given the values of three variables a, b and c, write a program to compute and display the value of x, where**"
   ]
  },
  {
   "cell_type": "markdown",
   "metadata": {},
   "source": [
    "$ x =   a/(b-c) $"
   ]
  },
  {
   "cell_type": "markdown",
   "metadata": {},
   "source": [
    "**Consider a=250, b=85, c=25**."
   ]
  },
  {
   "cell_type": "code",
   "execution_count": 4,
   "metadata": {},
   "outputs": [
    {
     "name": "stdout",
     "output_type": "stream",
     "text": [
      "4.166666666666667\n"
     ]
    }
   ],
   "source": [
    " a = 250\n",
    " b = 85\n",
    " c=25\n",
    " x = a/(b-c)\n",
    "print(x)"
   ]
  },
  {
   "cell_type": "markdown",
   "metadata": {},
   "source": [
    "## Question 2"
   ]
  },
  {
   "cell_type": "markdown",
   "metadata": {},
   "source": [
    "**In question no. 1, change the values of a, b and c and calculate x.**\n",
    "\n",
    "**Consider a=250, b=85, c=85.**"
   ]
  },
  {
   "cell_type": "code",
   "execution_count": 5,
   "metadata": {},
   "outputs": [
    {
     "ename": "ZeroDivisionError",
     "evalue": "division by zero",
     "output_type": "error",
     "traceback": [
      "\u001b[1;31m---------------------------------------------------------------------------\u001b[0m",
      "\u001b[1;31mZeroDivisionError\u001b[0m                         Traceback (most recent call last)",
      "\u001b[1;32m<ipython-input-5-700e6b8e62a0>\u001b[0m in \u001b[0;36m<module>\u001b[1;34m\u001b[0m\n\u001b[0;32m      2\u001b[0m \u001b[0mb\u001b[0m \u001b[1;33m=\u001b[0m \u001b[1;36m85\u001b[0m\u001b[1;33m\u001b[0m\u001b[1;33m\u001b[0m\u001b[0m\n\u001b[0;32m      3\u001b[0m \u001b[0mc\u001b[0m\u001b[1;33m=\u001b[0m\u001b[1;36m85\u001b[0m\u001b[1;33m\u001b[0m\u001b[1;33m\u001b[0m\u001b[0m\n\u001b[1;32m----> 4\u001b[1;33m \u001b[0mx\u001b[0m \u001b[1;33m=\u001b[0m \u001b[0ma\u001b[0m\u001b[1;33m/\u001b[0m\u001b[1;33m(\u001b[0m\u001b[0mb\u001b[0m\u001b[1;33m-\u001b[0m\u001b[0mc\u001b[0m\u001b[1;33m)\u001b[0m\u001b[1;33m\u001b[0m\u001b[1;33m\u001b[0m\u001b[0m\n\u001b[0m\u001b[0;32m      5\u001b[0m \u001b[0mprint\u001b[0m\u001b[1;33m(\u001b[0m\u001b[0mx\u001b[0m\u001b[1;33m)\u001b[0m\u001b[1;33m\u001b[0m\u001b[1;33m\u001b[0m\u001b[0m\n",
      "\u001b[1;31mZeroDivisionError\u001b[0m: division by zero"
     ]
    }
   ],
   "source": [
    " a = 250\n",
    " b = 85\n",
    " c=85\n",
    " x = a/(b-c)\n",
    "print(x)"
   ]
  },
  {
   "cell_type": "markdown",
   "metadata": {},
   "source": [
    "**Division by zero error!**"
   ]
  },
  {
   "cell_type": "markdown",
   "metadata": {},
   "source": [
    "## Question 3"
   ]
  },
  {
   "cell_type": "markdown",
   "metadata": {},
   "source": [
    "**Write a program to convert temperatures from Fahrenheit to Celsius. The formula for\n",
    "that is:** \n",
    "\n",
    " $ C = 5 / 9 * (F - 32) $"
   ]
  },
  {
   "cell_type": "code",
   "execution_count": 7,
   "metadata": {},
   "outputs": [
    {
     "name": "stdout",
     "output_type": "stream",
     "text": [
      "Enter the tempreture in Farheneit270\n",
      "Tempereature in celsius is: 132.22222222222223\n"
     ]
    }
   ],
   "source": [
    "f=int(input('Enter the tempreture in Farheneit'))\n",
    "c= 5/9*(f-32)\n",
    "print('Tempereature in celsius is:',c)\n"
   ]
  },
  {
   "cell_type": "markdown",
   "metadata": {},
   "source": [
    "## Question 4"
   ]
  },
  {
   "cell_type": "markdown",
   "metadata": {},
   "source": [
    "**Three people ate dinner at a restaurant and want to split the bill. The total is *$35.27*,** **and they want to leave a *15%* tip. How much should each person pay?**"
   ]
  },
  {
   "cell_type": "code",
   "execution_count": 16,
   "metadata": {},
   "outputs": [
    {
     "name": "stdout",
     "output_type": "stream",
     "text": [
      "The total amount after adding tip is: 40.560500000000005\n",
      "The amount to be payed by each individual is: 13.520166666666668\n"
     ]
    }
   ],
   "source": [
    "a= 35.27\n",
    "b= 0.15*35.27\n",
    "c=a+b\n",
    "print('The total amount after adding tip is:',c)\n",
    "d= c/3\n",
    "print('The amount to be payed by each individual is:',d)"
   ]
  },
  {
   "cell_type": "markdown",
   "metadata": {},
   "source": [
    "## Question 5"
   ]
  },
  {
   "cell_type": "markdown",
   "metadata": {},
   "source": [
    "**Calculate the *area* and *perimeter* of a rectangular room having size *12.5* meters by *16.7* meters.**"
   ]
  },
  {
   "cell_type": "code",
   "execution_count": 18,
   "metadata": {},
   "outputs": [
    {
     "name": "stdout",
     "output_type": "stream",
     "text": [
      "The area is: 208.75 The perimeter is: 58.4\n"
     ]
    }
   ],
   "source": [
    "l= 12.5\n",
    "b=16.7\n",
    "A= l*b\n",
    "p= 2*(l+b)\n",
    "print('The area is:',A,'The perimeter is:',p)"
   ]
  },
  {
   "cell_type": "markdown",
   "metadata": {},
   "source": [
    "## Question 6"
   ]
  },
  {
   "cell_type": "markdown",
   "metadata": {},
   "source": [
    "**Do you know how to figure out how long it will take to get somewhere in a car? The formula (in words) is “travel time equals distance divided by speed.” Make a program to calculate the time it will take to drive *200 km* at *80 km per hour* and display the answer.**"
   ]
  },
  {
   "cell_type": "code",
   "execution_count": 20,
   "metadata": {},
   "outputs": [
    {
     "name": "stdout",
     "output_type": "stream",
     "text": [
      "Time taken: 2.5 hrs\n"
     ]
    }
   ],
   "source": [
    "s=200\n",
    "v=80\n",
    "t=200/80\n",
    "print('Time taken:',t,'hrs')"
   ]
  },
  {
   "cell_type": "markdown",
   "metadata": {},
   "source": [
    "## Question 7"
   ]
  },
  {
   "cell_type": "markdown",
   "metadata": {},
   "source": [
    "**Write a Python program to allow the user to enter radius of a circle. Calculate and display the area of circle.**"
   ]
  },
  {
   "cell_type": "code",
   "execution_count": 1,
   "metadata": {},
   "outputs": [
    {
     "name": "stdout",
     "output_type": "stream",
     "text": [
      "Enter radius of circle:1\n",
      "Area of circle of radius 1 is: 6.28 units\n"
     ]
    }
   ],
   "source": [
    "r=int(input('Enter radius of circle:'))\n",
    "a= 2*3.14*r*r\n",
    "print('Area of circle of radius',r,'is:',a,'units')"
   ]
  },
  {
   "cell_type": "markdown",
   "metadata": {},
   "source": [
    "## Question 8"
   ]
  },
  {
   "cell_type": "markdown",
   "metadata": {},
   "source": [
    "**In Question 7, we explicitly initialized value of pi. Compute the area of circle without explicitly initializing pi.**\n",
    "\n",
    "**Hint: import math  library**"
   ]
  },
  {
   "cell_type": "code",
   "execution_count": 3,
   "metadata": {},
   "outputs": [
    {
     "name": "stdout",
     "output_type": "stream",
     "text": [
      "Enter radius of circle:1\n",
      "Area of circle of radius 1 is: 6.283185307179586 units\n"
     ]
    }
   ],
   "source": [
    "import math\n",
    "r=int(input('Enter radius of circle:'))\n",
    "a= 2*math.pi*r*r\n",
    "print('Area of circle of radius',r,'is:',a,'units')\n"
   ]
  },
  {
   "cell_type": "markdown",
   "metadata": {},
   "source": [
    "## Question 9"
   ]
  },
  {
   "cell_type": "markdown",
   "metadata": {},
   "source": [
    "**Write a Python program that allows the user to enter two integer values, and displays the results when each of the following arithmetic operators are applied.**\n",
    "\n",
    "**For example, if the user enters the values 7 and 5, the output would be,**\n",
    "\n",
    "    7 + 5 = 12 \n",
    "    \n",
    "    7 - 5 = 2\n",
    "    \n",
    "    7 * 5 = 35\n",
    "    \n",
    "    7 / 5 = 1.40\n",
    "    \n",
    "    7 //5 = 1 \n",
    "    \n",
    "    7 % 5 = 2\n",
    "    \n",
    "    7 **5 = 16,807"
   ]
  },
  {
   "cell_type": "code",
   "execution_count": 6,
   "metadata": {},
   "outputs": [
    {
     "name": "stdout",
     "output_type": "stream",
     "text": [
      "Enter the first digit2\n",
      "Enter the second digit2\n",
      "2 + 2 = 4\n",
      "2 - 2 = 0\n",
      "2 * 2 = 4\n",
      "2 / 2 = 1.0\n",
      "2 // 2 = 1\n",
      "2 % 2 = 0\n",
      "2 ** 2 = 4\n"
     ]
    }
   ],
   "source": [
    "a=int(input('Enter the first digit'))\n",
    "b=int(input('Enter the second digit'))\n",
    "c=a+b\n",
    "print(a,'+',b,'=',c)\n",
    "c=a-b\n",
    "print(a,'-',b,'=',c)\n",
    "c=a*b\n",
    "print(a,'*',b,'=',c)\n",
    "c=a/b\n",
    "print(a,'/',b,'=',c)\n",
    "c=a//b\n",
    "print(a,'//',b,'=',c)\n",
    "c=a%b\n",
    "print(a,'%',b,'=',c)\n",
    "c=a**b\n",
    "print(a,'**',b,'=',c)"
   ]
  },
  {
   "cell_type": "markdown",
   "metadata": {},
   "source": [
    "## Question 10"
   ]
  },
  {
   "cell_type": "markdown",
   "metadata": {},
   "source": [
    "**Write a Python program that allows the user to enter an integer value and displays the table of that integer value.**\n",
    "\n",
    "**For example, if the user enters the value as 5, the output would be,**\n",
    "\n",
    "    5 * 1 = 5 (5 * i = 5)\n",
    "    5 * 2 = 10\n",
    "    5 * 3 = 15\n",
    "    5 * 4 = 20\n",
    "    .\n",
    "    .\n",
    "    .\n",
    "    5 * 10 = 50\n",
    "    \n",
    "**Use increment operator at each step to increment value of i.**"
   ]
  },
  {
   "cell_type": "code",
   "execution_count": 2,
   "metadata": {},
   "outputs": [
    {
     "name": "stdout",
     "output_type": "stream",
     "text": [
      "5X 1 = 5\n",
      "5X 2 = 10\n",
      "5X 3 = 15\n",
      "5X 4 = 20\n",
      "5X 5 = 25\n",
      "5X 6 = 30\n",
      "5X 7 = 35\n",
      "5X 8 = 40\n",
      "5X 9 = 45\n"
     ]
    }
   ],
   "source": [
    "for i in range(1, 10): \n",
    "   print('5*',i,'=',5*i) "
   ]
  },
  {
   "cell_type": "markdown",
   "metadata": {},
   "source": [
    "## Question 11"
   ]
  },
  {
   "cell_type": "markdown",
   "metadata": {},
   "source": [
    "**Area of a triangle is given by the formula:**"
   ]
  },
  {
   "cell_type": "markdown",
   "metadata": {},
   "source": [
    "$ area= \\sqrt{S * (S - a) * (S - b) * (S - c)} $"
   ]
  },
  {
   "cell_type": "markdown",
   "metadata": {},
   "source": [
    "**where a, b and c are sides of the triangle and *2S=a+b+c*. Write a program to compute the area of traingle given the values of a, b and c as 10, 20 and 20 respectively.**"
   ]
  },
  {
   "cell_type": "code",
   "execution_count": 21,
   "metadata": {},
   "outputs": [
    {
     "name": "stdout",
     "output_type": "stream",
     "text": [
      "area is: 96.82458365518542\n"
     ]
    }
   ],
   "source": [
    "a=10\n",
    "b=20\n",
    "c=20\n",
    "s=(a+b+c)/2\n",
    "ar=(s*(s-a)*(s-b)*(s-c))\n",
    "area=ar**0.5\n",
    "print('area is:',area)"
   ]
  },
  {
   "cell_type": "markdown",
   "metadata": {},
   "source": [
    "## Question 12"
   ]
  },
  {
   "cell_type": "markdown",
   "metadata": {},
   "source": [
    "**Distance between two points *(x1, y1) and (x2, y2)* is given by the formula:**"
   ]
  },
  {
   "cell_type": "markdown",
   "metadata": {},
   "source": [
    "$ D ^ 2 = (x2 - x1) ^ 2 + (y2 - y1) ^ 2 $\n",
    "    \n",
    "**Write a program to compute D given the coordinates of the points as *(2,4) and (9,8)*.**"
   ]
  },
  {
   "cell_type": "code",
   "execution_count": 22,
   "metadata": {},
   "outputs": [
    {
     "name": "stdout",
     "output_type": "stream",
     "text": [
      "Distance between two points is : 8.06225774829855\n"
     ]
    }
   ],
   "source": [
    "x1=2\n",
    "y1=4\n",
    "x2=9\n",
    "y2=8\n",
    "D=(((x2-x1)**2)+((y2-y1)**2))\n",
    "d=D**0.5\n",
    "print('Distance between two points is :',d)"
   ]
  },
  {
   "cell_type": "markdown",
   "metadata": {},
   "source": [
    "## Question 13"
   ]
  },
  {
   "cell_type": "markdown",
   "metadata": {},
   "source": [
    "**Write a program to input an integer radian value from user and convert the radian into degree.** "
   ]
  },
  {
   "cell_type": "code",
   "execution_count": 24,
   "metadata": {},
   "outputs": [
    {
     "name": "stdout",
     "output_type": "stream",
     "text": [
      "Enter the angles in radians:3.14\n",
      "Angle in degrees is: 179.9087476710785\n"
     ]
    }
   ],
   "source": [
    "import math\n",
    "a= float(input('Enter the angles in radians:'))\n",
    "b= a*(180/math.pi)\n",
    "print('Angle in degrees is:',b)"
   ]
  },
  {
   "cell_type": "code",
   "execution_count": null,
   "metadata": {},
   "outputs": [],
   "source": []
  }
 ],
 "metadata": {
  "kernelspec": {
   "display_name": "Python 3",
   "language": "python",
   "name": "python3"
  },
  "language_info": {
   "codemirror_mode": {
    "name": "ipython",
    "version": 3
   },
   "file_extension": ".py",
   "mimetype": "text/x-python",
   "name": "python",
   "nbconvert_exporter": "python",
   "pygments_lexer": "ipython3",
   "version": "3.7.6"
  }
 },
 "nbformat": 4,
 "nbformat_minor": 2
}
