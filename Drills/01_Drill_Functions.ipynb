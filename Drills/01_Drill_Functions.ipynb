{
 "cells": [
  {
   "cell_type": "markdown",
   "metadata": {},
   "source": [
    "# Exercises"
   ]
  },
  {
   "cell_type": "markdown",
   "metadata": {},
   "source": [
    "## Question 1"
   ]
  },
  {
   "cell_type": "markdown",
   "metadata": {},
   "source": [
    "**Write a python program to print all *factors of a number*.**"
   ]
  },
  {
   "cell_type": "code",
   "execution_count": 2,
   "metadata": {},
   "outputs": [
    {
     "name": "stdout",
     "output_type": "stream",
     "text": [
      "The factors of 320 are:\n",
      "1\n",
      "2\n",
      "4\n",
      "5\n",
      "8\n",
      "10\n",
      "16\n",
      "20\n",
      "32\n",
      "40\n",
      "64\n",
      "80\n",
      "160\n",
      "320\n"
     ]
    }
   ],
   "source": [
    "# define a function\n",
    "def print_factors(x):\n",
    "   # This function takes a number and prints the factors\n",
    "    print(\"The factors of\",x,\"are:\")\n",
    "    for i in range(1, x + 1):\n",
    "        if x % i == 0:\n",
    "            print(i)\n",
    "\n",
    "# change this value for a different result.\n",
    "num = 320\n",
    "\n",
    "# uncomment the following line to take input from the user\n",
    "#num = int(input(\"Enter a number: \"))\n",
    "\n",
    "print_factors(num)"
   ]
  },
  {
   "cell_type": "markdown",
   "metadata": {},
   "source": [
    "## Question 2"
   ]
  },
  {
   "cell_type": "markdown",
   "metadata": {},
   "source": [
    "**Write a python program to find the *LCM* of two numbers.**"
   ]
  },
  {
   "cell_type": "code",
   "execution_count": 4,
   "metadata": {},
   "outputs": [
    {
     "name": "stdout",
     "output_type": "stream",
     "text": [
      "The L.C.M. of 54 and 24 is 216\n"
     ]
    }
   ],
   "source": [
    "# Python Program to find the L.C.M. of two input number\n",
    "\n",
    "# define a function\n",
    "def lcm(x, y):\n",
    "   # choose the greater number\n",
    "   if x > y:\n",
    "        greater = x\n",
    "    else:\n",
    "        greater = y\n",
    "\n",
    "    while(True):\n",
    "        if((greater % x == 0) and (greater % y == 0)):\n",
    "            lcm = greater\n",
    "            break\n",
    "        greater += 1\n",
    "\n",
    "    return lcm\n",
    "\n",
    "# change the values of num1 and num2 for a different result\n",
    "num1 = 54\n",
    "num2 = 24\n",
    "\n",
    "# uncomment the following lines to take input from the user\n",
    "#num1 = int(input(\"Enter first number: \"))\n",
    "#num2 = int(input(\"Enter second number: \"))\n",
    "\n",
    "print(\"The L.C.M. of\", num1,\"and\", num2,\"is\", lcm(num1, num2))"
   ]
  },
  {
   "cell_type": "markdown",
   "metadata": {},
   "source": [
    "## Question 3"
   ]
  },
  {
   "cell_type": "markdown",
   "metadata": {},
   "source": [
    "**Write a program to create a calculator that performs *addition, subtraction, multiplication and division operations* on two numbers.**"
   ]
  },
  {
   "cell_type": "code",
   "execution_count": 6,
   "metadata": {},
   "outputs": [
    {
     "name": "stdout",
     "output_type": "stream",
     "text": [
      "Select operation.\n",
      "1.Add\n",
      "2.Subtract\n",
      "3.Multiply\n",
      "4.Divide\n",
      "Enter choice(1/2/3/4):5\n",
      "Enter first number: 2\n",
      "Enter second number: 4\n",
      "Invalid input\n"
     ]
    }
   ],
   "source": [
    "# Program make a simple calculator that can add, subtract, multiply and divide using functions\n",
    "\n",
    "# This function adds two numbers \n",
    "def add(x, y):\n",
    "    return x + y\n",
    "\n",
    "# This function subtracts two numbers \n",
    "def subtract(x, y):\n",
    "    return x - y\n",
    "\n",
    "# This function multiplies two numbers\n",
    "def multiply(x, y):\n",
    "    return x * y\n",
    "\n",
    "# This function divides two numbers\n",
    "def divide(x, y):\n",
    "    return x / y\n",
    "\n",
    "print(\"Select operation.\")\n",
    "print(\"1.Add\")\n",
    "print(\"2.Subtract\")\n",
    "print(\"3.Multiply\")\n",
    "print(\"4.Divide\")\n",
    "\n",
    "# Take input from the user \n",
    "choice = input(\"Enter choice(1/2/3/4):\")\n",
    "\n",
    "num1 = int(input(\"Enter first number: \"))\n",
    "num2 = int(input(\"Enter second number: \"))\n",
    "\n",
    "if choice == '1':\n",
    "    print(num1,\"+\",num2,\"=\", add(num1,num2))\n",
    "\n",
    "elif choice == '2':\n",
    "    print(num1,\"-\",num2,\"=\", subtract(num1,num2))\n",
    "\n",
    "elif choice == '3':\n",
    "    print(num1,\"*\",num2,\"=\", multiply(num1,num2))\n",
    "\n",
    "elif choice == '4':\n",
    "    print(num1,\"/\",num2,\"=\", divide(num1,num2))\n",
    "else:\n",
    "    print(\"Invalid input\")"
   ]
  },
  {
   "cell_type": "markdown",
   "metadata": {},
   "source": [
    "# Recursion"
   ]
  },
  {
   "cell_type": "markdown",
   "metadata": {},
   "source": [
    "## Question 4"
   ]
  },
  {
   "cell_type": "markdown",
   "metadata": {},
   "source": [
    "**Write a recursive program to calculate *factorial* of a number.**"
   ]
  },
  {
   "cell_type": "code",
   "execution_count": 2,
   "metadata": {},
   "outputs": [
    {
     "name": "stdout",
     "output_type": "stream",
     "text": [
      "The factorial of 7 is 5040\n"
     ]
    }
   ],
   "source": [
    "# Python program to find the factorial of a number using recursion\n",
    "\n",
    "def recur_factorial(n):\n",
    "     if n == 1:\n",
    "        return n\n",
    "    else:\n",
    "        return n*recur_factorial(n-1)\n",
    "\n",
    "# Change this value for a different result\n",
    "num = 7\n",
    "\n",
    "# uncomment to take input from the user\n",
    "#num = int(input(\"Enter a number: \"))\n",
    "\n",
    "# check is the number is negative\n",
    "if num < 0:\n",
    "    print(\"Sorry, factorial does not exist for negative numbers\")\n",
    "elif num == 0:\n",
    "    print(\"The factorial of 0 is 1\")\n",
    "else:\n",
    "    print(\"The factorial of\",num,\"is\",recur_factorial(num))"
   ]
  },
  {
   "cell_type": "markdown",
   "metadata": {},
   "source": [
    "## Question 5"
   ]
  },
  {
   "cell_type": "markdown",
   "metadata": {},
   "source": [
    "**Write a recursive program to calculate *sum of natural numbers* upto a number.**"
   ]
  },
  {
   "cell_type": "code",
   "execution_count": 4,
   "metadata": {},
   "outputs": [
    {
     "name": "stdout",
     "output_type": "stream",
     "text": [
      "The sum is 136\n"
     ]
    }
   ],
   "source": [
    "# Python program to find the sum of natural numbers up to n using recursive function\n",
    "\n",
    "def recur_sum(n):\n",
    "    if n <= 1:\n",
    "        return n\n",
    "    else:\n",
    "        return n + recur_sum(n-1)\n",
    "\n",
    "# change this value for a different result\n",
    "num = 16\n",
    "\n",
    "# uncomment to take input from the user\n",
    "#num = int(input(\"Enter a number: \"))\n",
    "\n",
    "if num < 0:\n",
    "    print(\"Enter a positive number\")\n",
    "else:\n",
    "    print(\"The sum is\",recur_sum(num))"
   ]
  },
  {
   "cell_type": "markdown",
   "metadata": {},
   "source": [
    "## Question 6"
   ]
  },
  {
   "cell_type": "raw",
   "metadata": {},
   "source": [
    "pi can be computed using the following series: \n",
    "\n",
    "m(i)=4(1-1/3+1/5-1/7+1/9-1/11+ ... + (-1)^(i+1)/(2i-1))\n",
    "\n",
    "Write a function that returns m(i) for a given i.\n",
    "\n",
    "For Example,\n",
    "          i                   m(i)\n",
    "         1                   4.0000\n",
    "         101                 3.1515\n",
    "         201                 3.1466\n",
    "         301                 3.1449\n",
    "         401                 3.1441\n",
    "         501                 3.1436\n",
    "         601                 3.1433\n",
    "         701                 3.1430\n",
    "         801                 3.1428\n",
    "         901                 3.1427"
   ]
  },
  {
   "cell_type": "code",
   "execution_count": 4,
   "metadata": {},
   "outputs": [
    {
     "name": "stdout",
     "output_type": "stream",
     "text": [
      "Enter the value for i:101\n",
      "The value for m(i) is:  3.1427025311614294\n"
     ]
    }
   ],
   "source": [
    "def m(i):\n",
    "    pi = 0\n",
    "    sign = 1\n",
    "    for i in range(1, i + 1, 1):\n",
    "        pi += sign / (2 * i - 1) \n",
    "        sign = -1 * sign\n",
    "\n",
    "    return 4 * pi\n",
    "\n",
    "val=int(input(\"Enter the value for i:\"))\n",
    "print(\"The value for m(i) is: \",m(i))\n",
    "\n"
   ]
  },
  {
   "cell_type": "markdown",
   "metadata": {},
   "source": [
    "## Question 7"
   ]
  },
  {
   "cell_type": "raw",
   "metadata": {},
   "source": [
    "A palindromic prime is a prime number that is also palindromic. For example, 131 is a prime and also a palindromic prime, as are 313 and 757. Write a program that displays the first 100 palindromic prime numbers. Display 10 numbers per line:\n",
    "\n",
    "              2     3     5     7    11   101   131   151   181   191\n",
    "            313   353   373   383   727   757   787   797   919   929"
   ]
  },
  {
   "cell_type": "code",
   "execution_count": 6,
   "metadata": {},
   "outputs": [
    {
     "name": "stdout",
     "output_type": "stream",
     "text": [
      "2 3 5 7 11 101 131 151 181 191 \n",
      "313 353 373 383 727 757 787 797 919 929 \n",
      "10301 10501 10601 11311 11411 12421 12721 12821 13331 13831 \n",
      "13931 14341 14741 15451 15551 16061 16361 16561 16661 17471 \n",
      "17971 18181 18481 19391 19891 19991 30103 30203 30403 30703 \n",
      "30803 31013 31513 32323 32423 33533 34543 34843 35053 35153 \n",
      "35353 35753 36263 36563 37273 37573 38083 38183 38783 39293 \n",
      "70207 70507 70607 71317 71917 72227 72727 73037 73237 73637 \n",
      "74047 74747 75557 76367 76667 77377 77477 77977 78487 78787 \n",
      "78887 79397 79697 79997 90709 91019 93139 93239 93739 94049 \n"
     ]
    }
   ],
   "source": [
    "def main():\n",
    "    count = 1\n",
    "\n",
    "    i = 2 \n",
    "    while count <= 100:\n",
    "        # Display each number in five positions\n",
    "        if isPrime(i) and isPalindrome(i):\n",
    "            print(i, end = \" \")\n",
    "\n",
    "            if count % 10 == 0:\n",
    "                print()\n",
    "\n",
    "            count += 1 # Increase count\n",
    "        \n",
    "        i += 1\n",
    "\n",
    "def isPrime(number):\n",
    "    divisor = 2\n",
    "    while divisor <= number / 2:\n",
    "        if number % divisor == 0:\n",
    "            # If true, number is not prime\n",
    "            return False # number is not a prime\n",
    "        divisor += 1\n",
    "\n",
    "    return True # number is prime\n",
    "\n",
    "# Return the reversal of an integer, i.e. reverse(456) returns 654\n",
    "def isPalindrome(number):\n",
    "    return number == reverse(number)\n",
    "\n",
    "# Return the reversal of an integer, i.e. reverse(456) returns 654\n",
    "def reverse(number):\n",
    "    result = 0\n",
    "    while number != 0:\n",
    "        remainder = number % 10\n",
    "        result = result * 10 + remainder\n",
    "        number = number // 10\n",
    "\n",
    "    return result\n",
    "\n",
    "main()\n"
   ]
  },
  {
   "cell_type": "markdown",
   "metadata": {},
   "source": [
    "## Question 8"
   ]
  },
  {
   "cell_type": "markdown",
   "metadata": {},
   "source": [
    "**Craps is a popular dice game played in casinos.**\n",
    "\n",
    "**Write a program to play a variation of the game, as follows:**\n",
    "\n",
    "Roll two dices. Each die has six faces representing values 1, 2, ..., and 6, respectively. Check the sum of the two dice. If the sum is 2, 3, or 12 (called craps), you lose; if the sum is 7 or 11 (called natural), you win; if the sum is another value (i.e., 4, 5, 6, 8, 9, or 10), a point is established. Continue to roll the dice until either a 7 or the same point value is rolled. If 7 is rolled, you lose. Otherwise, you win.\n",
    "\n",
    "**Your program acts as a single player. Here are some sample runs.**\n",
    "\n",
    "**You rolled 5 + 6 = 11**\n",
    "**You win**\n",
    "\n",
    "**You rolled 1 + 2 = 3\n",
    "You lose**\n",
    "     \n",
    "**You rolled 4 + 4 = 8\n",
    "point is 8\n",
    "You rolled 6 + 2 = 8\n",
    "You win**\n",
    "       \n",
    "**You rolled 3 + 2 = 5\n",
    "point is 5\n",
    "You rolled 2 + 5 = 7\n",
    "You lose**"
   ]
  },
  {
   "cell_type": "code",
   "execution_count": 10,
   "metadata": {},
   "outputs": [
    {
     "name": "stdout",
     "output_type": "stream",
     "text": [
      "You rolled 4 + 5 = 9\n",
      "point is 9\n",
      "You rolled 5 + 2 = 7\n",
      "You lose\n"
     ]
    }
   ],
   "source": [
    "import random\n",
    "\n",
    "def main():\n",
    "    dice = getDice()\n",
    "    if dice == 7 or dice == 11:\n",
    "        print(\"You win\")\n",
    "    elif dice == 2 or dice == 3 or dice == 12:\n",
    "        print(\"You lose\")\n",
    "\n",
    "    point = dice\n",
    "    print(\"point is\", point)\n",
    "    \n",
    "    dice = getDice()\n",
    "    while dice != 7 and dice != point:\n",
    "        dice = getDice()\n",
    "    \n",
    "    if dice == 7:\n",
    "        print(\"You lose\")\n",
    "    else:\n",
    "        print(\"You win\")\n",
    "\n",
    "# Get a dice\n",
    "def getDice():\n",
    "    i1 = random.randint(1, 6)\n",
    "    i2 = random.randint(1, 6)\n",
    "\n",
    "    print(\"You rolled\", i1, \"+\", i2, \"=\", i1 + i2)\n",
    "    return i1 + i2\n",
    "\n",
    "main()"
   ]
  },
  {
   "cell_type": "markdown",
   "metadata": {},
   "source": [
    "## Question 9"
   ]
  },
  {
   "cell_type": "markdown",
   "metadata": {},
   "source": [
    "**Write a function with the following header to format the integer with the specified width.**\n",
    "\n",
    "***def format(number, width):***\n",
    "\n",
    "**The function returns a string for the number with prefix 0s. The size of the string is the width. \n",
    "For example, *format(34, 4)* returns \"0034\" and *format(34, 5)* returns \"00034\".**\n",
    "\n",
    "**If the number is longer than the width, the function returns the string representation for the number. For example, *format(34, 1) returns \"34\".***\n",
    "\n",
    "**Write a program that prompts the user to enter a number and its width and displays a string returned from invoking *format(number, width).***"
   ]
  },
  {
   "cell_type": "code",
   "execution_count": 11,
   "metadata": {},
   "outputs": [
    {
     "name": "stdout",
     "output_type": "stream",
     "text": [
      "Enter an integer: 67\n",
      "Enter the width: 6\n",
      "The formatted number is 000067\n"
     ]
    }
   ],
   "source": [
    "def format(number, width):\n",
    "    result = str(number)\n",
    "    for i in range(0, width - len(number)):\n",
    "        result = \"0\" + result\n",
    "    \n",
    "    return result\n",
    " \n",
    "def len(number):\n",
    "    size = 0\n",
    "    while number > 0:\n",
    "        size += 1\n",
    "        number = number // 10\n",
    "        \n",
    "    return size    \n",
    "    \n",
    "def main():\n",
    "    number = eval(input(\"Enter an integer: \"))\n",
    "    width = eval(input(\"Enter the width: \"))\n",
    "    print(\"The formatted number is\", format(number, width))\n",
    "\n",
    "main() # Call the main function"
   ]
  },
  {
   "cell_type": "markdown",
   "metadata": {},
   "source": [
    "## Question 10"
   ]
  },
  {
   "cell_type": "markdown",
   "metadata": {},
   "source": [
    "**Write a program that counts up the number of vowels contained in the string s. Valid vowels are: 'a', 'e', 'i', 'o', and 'u'.** \n",
    "\n",
    "**For example, if s = 'azcbobobegghakl', your program should print:**"
   ]
  },
  {
   "cell_type": "code",
   "execution_count": 5,
   "metadata": {},
   "outputs": [
    {
     "name": "stdout",
     "output_type": "stream",
     "text": [
      "Enter Stringdata\n",
      "Number of vowels:  2\n",
      "2\n"
     ]
    }
   ],
   "source": [
    "def count_vowel():\n",
    "    cnt = 0\n",
    "    s=input(\"Enter String\")\n",
    "    s_len = len(s)\n",
    "    s_len = s_len - 1\n",
    "    while s_len >= 0:\n",
    "        if s[s_len] in ('aeiou'):\n",
    "            cnt += 1\n",
    "        s_len -= 1\n",
    "    print ('Number of vowels: ', str(cnt))\n",
    "    return cnt\n",
    "\n",
    "def main():\n",
    "    print(count_vowel())\n",
    "\n",
    "main()"
   ]
  },
  {
   "cell_type": "code",
   "execution_count": null,
   "metadata": {},
   "outputs": [],
   "source": []
  }
 ],
 "metadata": {
  "kernelspec": {
   "display_name": "Python 3",
   "language": "python",
   "name": "python3"
  },
  "language_info": {
   "codemirror_mode": {
    "name": "ipython",
    "version": 3
   },
   "file_extension": ".py",
   "mimetype": "text/x-python",
   "name": "python",
   "nbconvert_exporter": "python",
   "pygments_lexer": "ipython3",
   "version": "3.7.6"
  }
 },
 "nbformat": 4,
 "nbformat_minor": 2
}
