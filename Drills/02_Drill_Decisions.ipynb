{
 "cells": [
  {
   "cell_type": "markdown",
   "metadata": {},
   "source": [
    "# Questions"
   ]
  },
  {
   "cell_type": "markdown",
   "metadata": {},
   "source": [
    "## Question 1"
   ]
  },
  {
   "cell_type": "markdown",
   "metadata": {},
   "source": [
    "**Execute the following program and check the output.**"
   ]
  },
  {
   "cell_type": "code",
   "execution_count": 1,
   "metadata": {},
   "outputs": [
    {
     "name": "stdout",
     "output_type": "stream",
     "text": [
      "Enter the first number: 34\n",
      "Enter the second number: 56\n",
      "34.0 is less than 56.0\n",
      "34.0 is not equal to 56.0\n"
     ]
    }
   ],
   "source": [
    "num1 = float(input(\"Enter the first number: \"))\n",
    "num2 = float(input(\"Enter the second number: \"))\n",
    "\n",
    "if num1 < num2:\n",
    "    print(num1, \"is less than\", num2)\n",
    "\n",
    "if num1 > num2:\n",
    "    print(num1, \"is greater than\", num2)\n",
    "\n",
    "if num1 == num2:\n",
    "    print(num1, \"is equal to\", num2)\n",
    "\n",
    "if num1 != num2:\n",
    "    print(num1, \"is not equal to\", num2)"
   ]
  },
  {
   "cell_type": "markdown",
   "metadata": {},
   "source": [
    "## Question 2"
   ]
  },
  {
   "cell_type": "markdown",
   "metadata": {},
   "source": [
    "**What will the output be when this program is run?**"
   ]
  },
  {
   "cell_type": "code",
   "execution_count": 2,
   "metadata": {},
   "outputs": [
    {
     "name": "stdout",
     "output_type": "stream",
     "text": [
      "Under 20\n"
     ]
    }
   ],
   "source": [
    "my_number = 7\n",
    "if my_number < 20:\n",
    "    print ('Under 20')\n",
    "else:\n",
    "    print ('20 or over')"
   ]
  },
  {
   "cell_type": "markdown",
   "metadata": {},
   "source": [
    "## Question 3"
   ]
  },
  {
   "cell_type": "markdown",
   "metadata": {},
   "source": [
    "**From the program in the Question 2, what will the output be if you change my_number to 25?**"
   ]
  },
  {
   "cell_type": "code",
   "execution_count": 3,
   "metadata": {},
   "outputs": [
    {
     "name": "stdout",
     "output_type": "stream",
     "text": [
      "20 or over\n"
     ]
    }
   ],
   "source": [
    "my_number = 25\n",
    "if my_number < 20:\n",
    "    print ('Under 20')\n",
    "else:\n",
    "    print ('20 or over')"
   ]
  },
  {
   "cell_type": "markdown",
   "metadata": {},
   "source": [
    "## Question 4"
   ]
  },
  {
   "cell_type": "markdown",
   "metadata": {},
   "source": [
    "**What kind of if statement would you use to check if a number was greater than 30 but less than or equal to 40?**"
   ]
  },
  {
   "cell_type": "code",
   "execution_count": 4,
   "metadata": {},
   "outputs": [
    {
     "name": "stdout",
     "output_type": "stream",
     "text": [
      "Less than or equal to 30 or greater than 40\n"
     ]
    }
   ],
   "source": [
    "my_number = 25\n",
    "if my_number > 30 and my_number<=40:\n",
    "    print ('Greater than 30 but less than equal to 40')\n",
    "else:\n",
    "    print ('Less than or equal to 30 or greater than 40')"
   ]
  },
  {
   "cell_type": "markdown",
   "metadata": {},
   "source": [
    "## Question 5"
   ]
  },
  {
   "cell_type": "markdown",
   "metadata": {},
   "source": [
    "**What kind of if statement would you use to check if the user entered the letter “Q” in either *uppercase or lowercase*?**"
   ]
  },
  {
   "cell_type": "code",
   "execution_count": 6,
   "metadata": {},
   "outputs": [
    {
     "name": "stdout",
     "output_type": "stream",
     "text": [
      "not Q or q\n"
     ]
    }
   ],
   "source": [
    "my_number = 'a'\n",
    "if my_number == 'Q':\n",
    "    print ('Uppercase')\n",
    "elif my_number == 'q':\n",
    "    print ('Lowercase')\n",
    "else:\n",
    "    print('not Q or q')"
   ]
  },
  {
   "cell_type": "code",
   "execution_count": null,
   "metadata": {},
   "outputs": [],
   "source": []
  }
 ],
 "metadata": {
  "kernelspec": {
   "display_name": "Python 3",
   "language": "python",
   "name": "python3"
  },
  "language_info": {
   "codemirror_mode": {
    "name": "ipython",
    "version": 3
   },
   "file_extension": ".py",
   "mimetype": "text/x-python",
   "name": "python",
   "nbconvert_exporter": "python",
   "pygments_lexer": "ipython3",
   "version": "3.7.6"
  }
 },
 "nbformat": 4,
 "nbformat_minor": 2
}
