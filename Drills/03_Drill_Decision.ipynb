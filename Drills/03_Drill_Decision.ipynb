{
 "cells": [
  {
   "cell_type": "markdown",
   "metadata": {},
   "source": [
    "# Exercise"
   ]
  },
  {
   "cell_type": "markdown",
   "metadata": {},
   "source": [
    "#### **Using If then Else statements do the following operations**"
   ]
  },
  {
   "cell_type": "markdown",
   "metadata": {},
   "source": [
    "## Question 1"
   ]
  },
  {
   "cell_type": "markdown",
   "metadata": {},
   "source": [
    "**Write an algorithm/flowchart and then convert it to program to find area (in cm) and perimeter (in cm) of square, rectangle, triangle and circle depending on user’s choice. If user enter any number other than 1,2,3,4 then print You entered wrong number!**\n",
    "\n",
    "*Formulae*\n",
    "\n",
    "Perimeter of Square - $ 4 * a $ , where a is the side of the square <br>\n",
    "Area of Square - $a*a$ <br>\n",
    "Perimeter of Rectangle - $2 * (L + B)$ , where L is the length of the rectangle and B is the breadth of the rectangle <br>\n",
    "Area of Rectangle - $L*B$ <br>\n",
    "Perimeter of Triangle - $a + b + c$ , where a,b,c are the sides of the triangle <br>\n",
    "Area of Triangle - $\\sqrt(s*(s-a)*(s-b)*(s-c))$ , where s is $s = (a+b+c)/2$ <br>\n",
    "Perimeter of Circle - $2*pi*r$, where r is the radius of the circle <br>\n",
    "Area of Circle - $pi*r*r$"
   ]
  },
  {
   "cell_type": "code",
   "execution_count": 16,
   "metadata": {},
   "outputs": [],
   "source": [
    "import math"
   ]
  },
  {
   "cell_type": "code",
   "execution_count": null,
   "metadata": {},
   "outputs": [],
   "source": [
    "choice = input(\"For Which of the following would you like to find the area and perimeter of?\\n 1. Square\\n 2. Rectangle\\n 3. Triangle\\n 4. Circle\\n\")\n",
    "if choice == '1':\n",
    "    s=int(input(\"Enter the side of square: \"))\n",
    "    a=s*s\n",
    "    p=4*s\n",
    "    print(\"Area is\",a,\"Perimeter is\",p)\n",
    "elif choice == '2':\n",
    "    l=int(input(\"Enter the length of rectangle: \"))\n",
    "    b=int(input(\"Enter breadth of rectangle: \"))\n",
    "    a=l*b\n",
    "    p=2*(l+b)\n",
    "    print(\"Area is\",a,\"Perimeter is\",p)\n",
    "elif choice == '3':\n",
    "    l=int(input(\"Enter the first side of triangle: \"))\n",
    "    b=int(input(\"Enter second side of triangle: \"))\n",
    "    c=int(input(\"Enter the third side of triangle: \"))\n",
    "    s= (l+b+c)/2\n",
    "    a=((s)*(s-l)*(s-b)*(s-c))**0.5\n",
    "    p=l+b+c\n",
    "    print(\"Area is\",a,\"Perimeter is\",p)\n",
    "elif choice == '4':\n",
    "    r=int(input(\"Enter radius  of circle: \"))\n",
    "    a=pi*r*r\n",
    "    p=2*pi*r\n",
    "    print(\"Area is \",a,\" Perimeter is\",p)  \n",
    "else:\n",
    "    print(\"INVALID INPUT\")\n",
    "        \n"
   ]
  },
  {
   "cell_type": "markdown",
   "metadata": {},
   "source": [
    "## Question 2"
   ]
  },
  {
   "cell_type": "markdown",
   "metadata": {},
   "source": [
    "**Write an algorithm/flowchart and then convert it to program that find whether a number is prime or not.**"
   ]
  },
  {
   "cell_type": "code",
   "execution_count": 37,
   "metadata": {},
   "outputs": [
    {
     "name": "stdout",
     "output_type": "stream",
     "text": [
      "Enter the number15\n",
      "15 is a prime number\n",
      "15 is not prime number\n"
     ]
    }
   ],
   "source": [
    "a = int(input(\"Enter the number\"))\n",
    "for b in range (2,a):\n",
    "    if(a>1):\n",
    "        if (a%b==0):\n",
    "            print(a,\"is not prime number\")\n",
    "            break\n",
    "        else:\n",
    "            print(a,\"is a prime number\")\n",
    "    \n",
    "# If given number is greater than 1 \n",
    "\n",
    "      \n",
    "   # Iterate from 2 to n / 2  \n",
    "   \n",
    "         \n",
    "       # If num is divisible by any number between  \n",
    "       # 2 and n / 2, it is not prime  \n",
    "      "
   ]
  },
  {
   "cell_type": "markdown",
   "metadata": {},
   "source": [
    "## Question 3"
   ]
  },
  {
   "cell_type": "markdown",
   "metadata": {},
   "source": [
    "**Write an algorithm/flowchart and then convert it to program in which user enter one number and find it is divisible by 7 but is not a multiple of 5.**"
   ]
  },
  {
   "cell_type": "code",
   "execution_count": 22,
   "metadata": {},
   "outputs": [
    {
     "name": "stdout",
     "output_type": "stream",
     "text": [
      "Enter a number28\n",
      "28 is divisible by 7 and not a multiple of 5\n"
     ]
    }
   ],
   "source": [
    "a=int(input(\"Enter a number\"))\n",
    "if(a%7==0 and a%5!=0):\n",
    "    print(a,\"is divisible by 7 and not a multiple of 5\")\n",
    "else:\n",
    "    print(\"Invalid input\")"
   ]
  },
  {
   "cell_type": "markdown",
   "metadata": {},
   "source": [
    "## Question 4"
   ]
  },
  {
   "cell_type": "markdown",
   "metadata": {},
   "source": [
    "**Write an algorithm/flowchart and then convert it to program that reads in three strings and prints them out in alphabetical order.**"
   ]
  },
  {
   "cell_type": "code",
   "execution_count": 16,
   "metadata": {},
   "outputs": [
    {
     "name": "stdout",
     "output_type": "stream",
     "text": [
      "Enter First String:a\n",
      "Enter Second String:s\n",
      "Enter Third String:d\n",
      "['a', 'd', 's'] >\n"
     ]
    }
   ],
   "source": [
    "str1=str(input(\"Enter First String:\"))\n",
    "str2=str(input(\"Enter Second String:\"))\n",
    "str3=str(input(\"Enter Third String:\"))\n",
    "x=(str1,str2,str3)\n",
    "a=sorted(x)\n",
    "print(a)\n",
    "\n"
   ]
  },
  {
   "cell_type": "markdown",
   "metadata": {},
   "source": [
    "## Question 5"
   ]
  },
  {
   "cell_type": "markdown",
   "metadata": {},
   "source": [
    "**Write an algorithm/flowchart and then convert it to program that requests three integer values from the user. It then prints one of two things: if any of the values entered are duplicates, it prints “DUPLICATES”; otherwise, it prints “ALL UNIQUE”.**"
   ]
  },
  {
   "cell_type": "code",
   "execution_count": 10,
   "metadata": {},
   "outputs": [
    {
     "name": "stdout",
     "output_type": "stream",
     "text": [
      "Enter First Number:1\n",
      "Enter Second Number:2\n",
      "Enter Third Number:1\n",
      "Number DUPLICATES\n"
     ]
    }
   ],
   "source": [
    "a=int(input(\"Enter First Number:\"))\n",
    "b=int(input(\"Enter Second Number:\"))\n",
    "c=int(input(\"Enter Third Number:\"))\n",
    "if(a==b or a==c):\n",
    "    print(\"Number DUPLICATES\")\n",
    "elif(b==c or b==a): \n",
    "     print(\"Number DUPLICATES\")\n",
    "else:\n",
    "     print(\"Numbers are ALL UNIQUE\")\n",
    "    \n",
    "        "
   ]
  },
  {
   "cell_type": "code",
   "execution_count": null,
   "metadata": {},
   "outputs": [],
   "source": []
  }
 ],
 "metadata": {
  "kernelspec": {
   "display_name": "Python 3",
   "language": "python",
   "name": "python3"
  },
  "language_info": {
   "codemirror_mode": {
    "name": "ipython",
    "version": 3
   },
   "file_extension": ".py",
   "mimetype": "text/x-python",
   "name": "python",
   "nbconvert_exporter": "python",
   "pygments_lexer": "ipython3",
   "version": "3.7.3"
  }
 },
 "nbformat": 4,
 "nbformat_minor": 2
}
