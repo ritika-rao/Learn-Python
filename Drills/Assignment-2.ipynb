{
 "cells": [
  {
   "cell_type": "markdown",
   "metadata": {},
   "source": [
    "##ROCK PAPER SCISSOR"
   ]
  },
  {
   "cell_type": "code",
   "execution_count": 3,
   "metadata": {},
   "outputs": [
    {
     "name": "stdout",
     "output_type": "stream",
     "text": [
      "PLAY GAME\n",
      "If u interested type Y if not press N  y\n",
      "scissors\n",
      "scissors\n",
      "DRAW!!\n",
      "If u interested type Y if not press N  y\n",
      "paper\n",
      "rock\n",
      "ROCK is the winner\n",
      "If u interested type Y if not press N  n\n",
      "THANK YOU\n"
     ]
    }
   ],
   "source": [
    "import random\n",
    "def luck():\n",
    "    game=['rock','paper','scissors']\n",
    "    a=random.choice(game)\n",
    "    print(a)\n",
    "    b=random.choice(game)\n",
    "    print(b)\n",
    "    if(a=='paper'):\n",
    "        if(b=='rock'):\n",
    "            print(\"ROCK is the winner\")\n",
    "        elif(b=='scissors'):\n",
    "            print('scissors is the Winner')\n",
    "        else:\n",
    "            print('DRAW!!')\n",
    "    if(a=='rock'):\n",
    "        if(b=='scissors'):\n",
    "            print(\"ROCK is the winner\")\n",
    "        elif(b=='paper'):\n",
    "            print('paper is the Winner')\n",
    "        else:\n",
    "            print('DRAW!!')\n",
    "    if(a=='scissors'):\n",
    "        if(b=='rock'):\n",
    "            print(\"ROCK is the winner\")\n",
    "        elif(b=='paper'):\n",
    "            print('paper is the Winner')\n",
    "        else:\n",
    "            print('DRAW!!')\n",
    "#main\n",
    "print(\"PLAY GAME\")\n",
    "s=input(\"If u interested type Y if not press N  \")\n",
    "while(s.upper()=='Y'):\n",
    "        luck()\n",
    "        s=input(\"If u interested type Y if not press N  \")\n",
    "print(\"THANK YOU\")\n",
    "   "
   ]
  },
  {
   "cell_type": "markdown",
   "metadata": {},
   "source": [
    "##guess"
   ]
  },
  {
   "cell_type": "code",
   "execution_count": 5,
   "metadata": {},
   "outputs": [
    {
     "name": "stdout",
     "output_type": "stream",
     "text": [
      "TRY YOUR LUCK!!\n",
      "If u interested type Y if not press N  y\n",
      "Enter your guess: 45\n",
      "82\n",
      "OPPS!! TRY AGAIN\n",
      "If u interested type Y if not press N  n\n",
      "THANK YOU\n"
     ]
    }
   ],
   "source": [
    "import random\n",
    "def guess():\n",
    "    y=int(input(\"Enter your guess: \"))\n",
    "    x=random.randint(1,100)\n",
    "    print(x)\n",
    "    if(x==y):\n",
    "        print(\"Winner\")\n",
    "    else:\n",
    "        print(\"OPPS!! TRY AGAIN\")\n",
    "#main\n",
    "print(\"TRY YOUR LUCK!!\")\n",
    "s=input(\"If u interested type Y if not press N  \")\n",
    "while(s.upper()=='Y'):\n",
    "        guess()\n",
    "        s=input(\"If u interested type Y if not press N  \")\n",
    "        \n",
    "print(\"THANK YOU\")"
   ]
  },
  {
   "cell_type": "markdown",
   "metadata": {},
   "source": [
    "SAME DICE NUMBER"
   ]
  },
  {
   "cell_type": "code",
   "execution_count": null,
   "metadata": {},
   "outputs": [
    {
     "name": "stdout",
     "output_type": "stream",
     "text": [
      "TRY YOUR LUCK!!\n",
      "If u interested to roll a dice type Y if not press N  y\n",
      "2\n",
      "If u interested to roll a dice type Y if not press N  y\n",
      "2\n",
      "If u interested to roll a dice type Y if not press N  y\n",
      "2\n"
     ]
    }
   ],
   "source": [
    "import random\n",
    "def dice():\n",
    "    random.seed(3)  \n",
    "    print(random.randint(1,7))\n",
    "#main\n",
    "print(\"TRY YOUR LUCK!!\")\n",
    "s=input(\"If u interested to roll a dice type Y if not press N  \")\n",
    "while(s.upper()=='Y'):\n",
    "        dice()\n",
    "        s=input(\"If u interested to roll a dice type Y if not press N  \")\n",
    "        \n",
    "print(\"THANK YOU\")\n",
    "\n",
    "    "
   ]
  },
  {
   "cell_type": "markdown",
   "metadata": {},
   "source": [
    "RESTRAUNT TAB\n"
   ]
  },
  {
   "cell_type": "code",
   "execution_count": 13,
   "metadata": {},
   "outputs": [
    {
     "name": "stdout",
     "output_type": "stream",
     "text": [
      "\n",
      "this program will calculate a restaurant tab for a couple with a gift certificate,with restaurant tax of 8.0%\n",
      "\n",
      "Enter the amount of gift cerificate: $200\n",
      "for customer 1\n",
      "Appetizer: 12\n",
      "Entree: 33\n",
      "Drinks: 23\n",
      "Dessert: 34\n",
      "for customer 2\n",
      "Appetizer: 23\n",
      "Entree: 34\n",
      "Drinks: 23\n",
      "Dessert: 34\n",
      "Ordered Items:$  216.0\n",
      "Restaurant tax:$  17.28\n",
      "tab:$ 33.28\n"
     ]
    }
   ],
   "source": [
    "print(\"\\nthis program will calculate a restaurant tab for a couple with a gift certificate,with restaurant tax of 8.0%\\n\")\n",
    "\n",
    "amount=float(input(\"Enter the amount of gift cerificate: $\"))\n",
    "print('for customer 1')\n",
    "ap=float(input(\"Appetizer: \"))\n",
    "en=float(input(\"Entree: \"))\n",
    "dr=float(input(\"Drinks: \"))\n",
    "de=float(input(\"Dessert: \"))\n",
    "print('for customer 2')\n",
    "ap1=float(input(\"Appetizer: \"))\n",
    "en1=float(input(\"Entree: \"))\n",
    "dr1=float(input(\"Drinks: \"))\n",
    "de1=float(input(\"Dessert: \"))\n",
    "total=(ap+en+dr+de+ap1+en1+dr1+de1)\n",
    "print(\"Ordered Items:$ \",total)\n",
    "restax=0.08*total\n",
    "print(\"Restaurant tax:$ \",restax)\n",
    "tab=restax+total-amount\n",
    "print('tab:$',tab)"
   ]
  },
  {
   "cell_type": "markdown",
   "metadata": {},
   "source": [
    "print HELLO"
   ]
  },
  {
   "cell_type": "code",
   "execution_count": 3,
   "metadata": {},
   "outputs": [
    {
     "name": "stdout",
     "output_type": "stream",
     "text": [
      "72 101 108 108 111 32 87 111 114 108 100 33\n"
     ]
    }
   ],
   "source": [
    "print(ord('H'),ord('e'),ord('l'),ord('l'),ord('o'),ord(' '),ord('W'),ord('o'),ord('r'),ord('l'),ord('d'),ord('!'))"
   ]
  },
  {
   "cell_type": "markdown",
   "metadata": {},
   "source": [
    "Chineese Zodiac"
   ]
  },
  {
   "cell_type": "code",
   "execution_count": 11,
   "metadata": {},
   "outputs": [
    {
     "name": "stdout",
     "output_type": "stream",
     "text": [
      "this program displays your chinese zodiac and related personal characteristics\n",
      "Enter your year of birth (yyyy): 2000\n",
      "Your Chinese zodiac sign is the Dragon \n",
      "\n",
      "Your personal characteristics ..\n",
      "('Confident', 'intelligent', 'enthusiastic')\n",
      "\\Would you like to enter another year? (y/n): y\n",
      "Enter your year of birth (yyyy): 1999\n",
      "Your Chinese zodiac sign is the Rabbit \n",
      "\n",
      "Your personal characteristics ..\n",
      "('Quiet', 'elegant', 'kind', 'responsible')\n",
      "\\Would you like to enter another year? (y/n): n\n"
     ]
    }
   ],
   "source": [
    "print(\"this program displays your chinese zodiac and related personal characteristics\")\n",
    "animals=('Rat','Ox','Tiger','Rabbit','Dragon','Snake','Horse','Goat','Monkey','Rooster','Dog','Pig')\n",
    "end=False\n",
    "rat=('Quick-witted','resourceful','versatile','kind')\n",
    "ox=('Diligent','dependable','strong','determined')\n",
    "tiger=('Brave','confident','competitive')\n",
    "rabbit=('Quiet','elegant','kind','responsible')\n",
    "dragon=('Confident','intelligent','enthusiastic')\n",
    "snake=('Enigmatic','intelligent','wise')\n",
    "horse=('Animated','active','energetic')\n",
    "goat=('Calm','gentle','sympathetic')\n",
    "monkey=('Sharp','smart','curiosity')\n",
    "rooster=('Observant','hardworking', 'courageous')\n",
    "dog=('Lovely',' honest',' prudent')\n",
    "pig=('Compassionate', 'generous','diligent')\n",
    "characteristics =(rat, ox, tiger, rabbit, dragon, snake, horse, goat, monkey,rooster, dog, pig)\n",
    "while not end:\n",
    "    year=int(input('Enter your year of birth (yyyy): '))\n",
    "    current_yr=2019\n",
    "    while year < 1900 or year > current_yr:\n",
    "        print('Invalid year. Please re-enter\\n')\n",
    "        year=int(input('Enter your year of birth (yyyy) :'))\n",
    "\n",
    "    cycle=(year-1900)%12\n",
    "\n",
    "    print('Your Chinese zodiac sign is the', animals[cycle],'\\n')\n",
    "    print('Your personal characteristics ..')\n",
    "    print(characteristics[cycle])\n",
    "\n",
    "    again = input('Would you like to enter another year? (y/n): ')\n",
    "    while again!='y' and again!='n':\n",
    "        again=input(\"Please enter 'y' or 'n': \")\n",
    "\n",
    "    if again=='n':\n",
    "        end = True"
   ]
  },
  {
   "cell_type": "markdown",
   "metadata": {},
   "source": [
    "Days of Month"
   ]
  },
  {
   "cell_type": "code",
   "execution_count": 10,
   "metadata": {},
   "outputs": [
    {
     "name": "stdout",
     "output_type": "stream",
     "text": [
      "this displays number of days in a month\n",
      "Enter the month(1-12): 3\n",
      "number of days are:  31\n"
     ]
    }
   ],
   "source": [
    "print('this displays number of days in a month')\n",
    "month=int(input('Enter the month(1-12): '))\n",
    "num_days=0\n",
    "if month==2:\n",
    "    year=int(input('Enter the year: '))\n",
    "    if(year % 4 == 0) and (not (year % 100 == 0) or (year % 400 == 0)):\n",
    "        num_days=29\n",
    "    else:        \n",
    "        num_days=28\n",
    "elif month in (1, 3, 5, 7, 8, 10, 12):\n",
    "    num_days=31\n",
    "elif month in(4,6,9,11):\n",
    "    num_days=30\n",
    "else:\n",
    "    print('OOPS!!Invalid Input')\n",
    "print('number of days are: ',num_days)"
   ]
  },
  {
   "cell_type": "markdown",
   "metadata": {},
   "source": [
    "Coin Problem\n"
   ]
  },
  {
   "cell_type": "code",
   "execution_count": 9,
   "metadata": {},
   "outputs": [
    {
     "name": "stdout",
     "output_type": "stream",
     "text": [
      "Enter coins values as 1-Penny, 5-Nickel, 10-Dime and 25-Quarter\n",
      "Hit run after the last entered coin value\n",
      "Enter coins that add up to 2 cents, one per line.\n",
      "\n",
      "Enter first coin5\n",
      "Sorry total amount exceeds 2 cents.\n",
      "\n",
      " Try Again (yes/no) ?:y\n",
      "Enter coins that add up to 12 cents, one per line.\n",
      "\n",
      "Enter first coin5\n",
      "Enter next coin5\n",
      "Enter next coin5\n",
      "Sorry total amount exceeds 12 cents.\n",
      "\n",
      " Try Again (yes/no) ?:n\n",
      "end of game\n"
     ]
    }
   ],
   "source": [
    "import random\n",
    "print('Enter coins values as 1-Penny, 5-Nickel, 10-Dime and 25-Quarter')\n",
    "print(\"Hit run after the last entered coin value\")\n",
    "terminate=False\n",
    "empty_str= ''\n",
    "while not terminate:\n",
    "    amount=random.randint(1,99)\n",
    "    print('Enter coins that add up to', amount, 'cents, one per line.\\n')\n",
    "    game_over=False\n",
    "    total=0\n",
    "    \n",
    "    while not game_over:\n",
    "        valid_entry=False\n",
    "        \n",
    "        while not valid_entry:\n",
    "            if total==0:\n",
    "                entry=input('Enter first coin')\n",
    "            else:\n",
    "                entry=input('Enter next coin')\n",
    "                \n",
    "            if entry in (empty_str, '1','5','10','25'):\n",
    "                valid_entry = True\n",
    "            else:\n",
    "                print('Invalid Entry')\n",
    "                \n",
    "        if entry==empty_str:\n",
    "            if total==amount:\n",
    "                print('Correct')\n",
    "            else:\n",
    "                 print('Sorry: you only entered', total, 'cents.')\n",
    "                \n",
    "            game_over=True\n",
    "        else:\n",
    "            total = total + int(entry)\n",
    "            if total > amount:\n",
    "                print('Sorry total amount exceeds', amount, 'cents.')\n",
    "                game_over=True\n",
    "                \n",
    "        if game_over:\n",
    "            entry=input('\\n Try Again (yes/no) ?:')\n",
    "            \n",
    "            if entry=='n':\n",
    "                terminate=True\n",
    "                \n",
    "print(\"end of game\")             "
   ]
  },
  {
   "cell_type": "markdown",
   "metadata": {},
   "source": [
    "Place in universe"
   ]
  },
  {
   "cell_type": "code",
   "execution_count": 8,
   "metadata": {},
   "outputs": [
    {
     "name": "stdout",
     "output_type": "stream",
     "text": [
      "\n",
      "This program displays one's weight in kg ,tells no.of atoms in one and percentage of universe they comprise \n",
      "Welcome\n",
      "Enter your weight in lbs173\n",
      "weight in kf is:  78.54353945337328 kg\n",
      "Number of atoms in person:  7.854353945337329e+27\n",
      "percentage of universe in the person  112.20505636196182\n",
      "Thank you\n"
     ]
    }
   ],
   "source": [
    "print(\"\\nThis program displays one's weight in kg ,tells no.of atoms in one and percentage of universe they comprise \")\n",
    "num_of_atom_universe=10e80\n",
    "weight_avg_person=70\n",
    "num_atom_avg_person=7e27\n",
    "print(\"Welcome\")\n",
    "w=float(input(\"Enter your weight in lbs\"))\n",
    "weight_in_kg=w/2.2026\n",
    "print(\"weight in kf is: \",weight_in_kg,\"kg\")\n",
    "num_atoms=(weight_in_kg/weight_avg_person)*num_atom_avg_person\n",
    "print(\"Number of atoms in person: \",num_atoms)\n",
    "percent=num_atoms/num_atom_avg_person*100\n",
    "print(\"percentage of universe in the person \",percent)\n",
    "print(\"Thank you\")"
   ]
  },
  {
   "cell_type": "markdown",
   "metadata": {},
   "source": [
    "Temperature Conversion"
   ]
  },
  {
   "cell_type": "code",
   "execution_count": 7,
   "metadata": {},
   "outputs": [
    {
     "name": "stdout",
     "output_type": "stream",
     "text": [
      "\n",
      " This program converts Fahrenheit temperature to celsius\n",
      "Enter temperature in Fahrenheit: 98\n",
      "Temperature in celsius is:  36.67 °C\n"
     ]
    }
   ],
   "source": [
    "print('\\n This program converts Fahrenheit temperature to celsius')\n",
    "fah=float(input('Enter temperature in Fahrenheit: '))\n",
    "cel=format((fah - 32) * 5/9 ,'.2f')\n",
    "print('Temperature in celsius is: ',cel,'°C')"
   ]
  },
  {
   "cell_type": "code",
   "execution_count": null,
   "metadata": {},
   "outputs": [],
   "source": []
  }
 ],
 "metadata": {
  "kernelspec": {
   "display_name": "Python 3",
   "language": "python",
   "name": "python3"
  },
  "language_info": {
   "codemirror_mode": {
    "name": "ipython",
    "version": 3
   },
   "file_extension": ".py",
   "mimetype": "text/x-python",
   "name": "python",
   "nbconvert_exporter": "python",
   "pygments_lexer": "ipython3",
   "version": "3.7.6"
  }
 },
 "nbformat": 4,
 "nbformat_minor": 2
}
