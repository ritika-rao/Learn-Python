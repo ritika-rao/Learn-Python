{
 "cells": [
  {
   "cell_type": "markdown",
   "metadata": {},
   "source": [
    "# Exercise"
   ]
  },
  {
   "cell_type": "markdown",
   "metadata": {},
   "source": [
    "#### **Using If then Else statements do the following operations**"
   ]
  },
  {
   "cell_type": "markdown",
   "metadata": {},
   "source": [
    "## Question 1"
   ]
  },
  {
   "cell_type": "markdown",
   "metadata": {},
   "source": [
    "**Write an algorithm/flowchart and then convert it to program to find area (in cm) and perimeter (in cm) of square, rectangle, triangle and circle depending on user’s choice. If user enter any number other than 1,2,3,4 then print You entered wrong number!**\n",
    "\n",
    "*Formulae*\n",
    "\n",
    "Perimeter of Square - $ 4 * a $ , where a is the side of the square <br>\n",
    "Area of Square - $a*a$ <br>\n",
    "Perimeter of Rectangle - $2 * (L + B)$ , where L is the length of the rectangle and B is the breadth of the rectangle <br>\n",
    "Area of Rectangle - $L*B$ <br>\n",
    "Perimeter of Triangle - $a + b + c$ , where a,b,c are the sides of the triangle <br>\n",
    "Area of Triangle - $\\sqrt(s*(s-a)*(s-b)*(s-c))$ , where s is $s = (a+b+c)/2$ <br>\n",
    "Perimeter of Circle - $2*pi*r$, where r is the radius of the circle <br>\n",
    "Area of Circle - $pi*r*r$"
   ]
  },
  {
   "cell_type": "code",
   "execution_count": 16,
   "metadata": {},
   "outputs": [],
   "source": [
    "import math"
   ]
  },
  {
   "cell_type": "code",
   "execution_count": 17,
   "metadata": {},
   "outputs": [
    {
     "name": "stdout",
     "output_type": "stream",
     "text": [
      "For Which of the following would you like to find the area and perimeter of?\n",
      " 1. Square\n",
      " 2. Rectangle\n",
      " 3. Triangle\n",
      " 4. Circle1\n",
      "Enter the side (in cm) of square3\n",
      "Perimeter of the square is -  12\n",
      "Area of the square is -  9\n"
     ]
    }
   ],
   "source": [
    "choice = input(\"For Which of the following would you like to find the area and perimeter of?\\n 1. Square\\n 2. Rectangle\\n 3. Triangle\\n 4. Circle\")\n",
    "if choice == '1':\n",
    "    side = input(\"Enter the side (in cm) of square\")\n",
    "    a = int(side)\n",
    "    print(\"Perimeter of the square is - \", 4*a)\n",
    "    print(\"Area of the square is - \", a*a)\n",
    "    \n",
    "elif choice == '2':\n",
    "    length = input(\"Enter the length (in cm) of the rectangle\")\n",
    "    breadth = input(\"Enter the breadth (in cm) of the rectangle\")\n",
    "    length = int(length)\n",
    "    breadth = int(breadth)\n",
    "    print(\"Perimeter of the Rectangle is - \", 2 * (length + breadth))\n",
    "    print(\"Area of the Rectangle is - \", length * breadth)\n",
    "    \n",
    "elif choice == '3':\n",
    "    side1 = input(\"Enter the first side (in cm) of the triangle\")\n",
    "    side2 = input(\"Enter the second side (in cm) of the triangle\")\n",
    "    side3 = input(\"Enter the third side (in cm) of the triangle\")\n",
    "    side1 = int(side1)\n",
    "    side2 = int(side2)\n",
    "    side3 = int(side3)\n",
    "    sum_triangle = (side1 + side2 + side3)\n",
    "    s = sum_triangle/2\n",
    "    print(\"Perimeter of the Triangle is - \", sum_triangle)\n",
    "    print(\"Area of the Triangle is - \", math.sqrt(s*(s-side1)*(s-side2)*(s-side3)))\n",
    "    \n",
    "elif choice == '4':\n",
    "    radius = input(\"Enter the radius (in cm) of the circle\")\n",
    "    radius = int(radius)\n",
    "    print(\"Perimeter of the Circle is - \", 2 * (math.pi * radius))\n",
    "    print(\"Area of the Circle is - \", math.pi * radius ** 2 )\n",
    "\n",
    "elif choice != ('1' or '2' or '3' or '4'):\n",
    "    print (\"You entered wrong number!\")"
   ]
  },
  {
   "cell_type": "markdown",
   "metadata": {},
   "source": [
    "## Question 2"
   ]
  },
  {
   "cell_type": "markdown",
   "metadata": {},
   "source": [
    "**Write an algorithm/flowchart and then convert it to program that find whether a number is prime or not.**"
   ]
  },
  {
   "cell_type": "code",
   "execution_count": 18,
   "metadata": {},
   "outputs": [
    {
     "name": "stdout",
     "output_type": "stream",
     "text": [
      "Enter the number2\n",
      "2 is a prime number\n"
     ]
    }
   ],
   "source": [
    "num = int(input(\"Enter the number\"))\n",
    "  \n",
    "# If given number is greater than 1 \n",
    "if num > 1: \n",
    "      \n",
    "   # Iterate from 2 to n / 2  \n",
    "   for i in range(2, num//2): \n",
    "         \n",
    "       # If num is divisible by any number between  \n",
    "       # 2 and n / 2, it is not prime  \n",
    "       if (num % i) == 0: \n",
    "           print(num, \"is not a prime number\") \n",
    "           break\n",
    "   else: \n",
    "       print(num, \"is a prime number\") \n",
    "  \n",
    "else: \n",
    "   print(num, \"is not a prime number\") "
   ]
  },
  {
   "cell_type": "markdown",
   "metadata": {},
   "source": [
    "## Question 3"
   ]
  },
  {
   "cell_type": "markdown",
   "metadata": {},
   "source": [
    "**Write an algorithm/flowchart and then convert it to program in which user enter one number and find it is divisible by 7 but is not a multiple of 5.**"
   ]
  },
  {
   "cell_type": "code",
   "execution_count": 38,
   "metadata": {},
   "outputs": [
    {
     "name": "stdout",
     "output_type": "stream",
     "text": [
      "Enter number35\n",
      "Multiple of 5!\n"
     ]
    }
   ],
   "source": [
    "n1 = int(input(\"Enter number\"))\n",
    "\n",
    "if (n1%7)==0:\n",
    "    if (n1%5)!=0:\n",
    "        print (\"The number you entered is divisible by 7 and not a multiple of 5!\")\n",
    "    else:\n",
    "        print(\"Multiple of 5!\")\n",
    "else:\n",
    "    print (\"Not Divisible by 7!\")"
   ]
  },
  {
   "cell_type": "markdown",
   "metadata": {},
   "source": [
    "## Question 4"
   ]
  },
  {
   "cell_type": "markdown",
   "metadata": {},
   "source": [
    "**Write an algorithm/flowchart and then convert it to program that reads in three strings and prints them out in alphabetical order.**"
   ]
  },
  {
   "cell_type": "code",
   "execution_count": 22,
   "metadata": {},
   "outputs": [
    {
     "name": "stdout",
     "output_type": "stream",
     "text": [
      "Enter First String:shakshi\n",
      "Enter Second String:sharma\n",
      "Enter Third String:anjali\n",
      "anjali < shakshi < sharma\n"
     ]
    }
   ],
   "source": [
    "str1=input(\"Enter First String:\")\n",
    "str2=input(\"Enter Second String:\")\n",
    "str3=input(\"Enter Third String:\")\n",
    "if(str1<str2):\n",
    "        if(str2<str3):\n",
    "            print(str1,\"<\",str2,\"<\",str3)\n",
    "        else:\n",
    "            if(str1<str3):\n",
    "               print(str1,\"<\",str3,\"<\",str2)\n",
    "            else:\n",
    "                print(str3,\"<\",str1,\"<\",str2)\n",
    "else:\n",
    "        if(str2<str3):\n",
    "            if(str1<str3):\n",
    "                print(str2,\"<\",str1,\"<\",str3)\n",
    "            else:\n",
    "                print(str2,\"<\",str3,\"<\",str1)\n",
    "        else:\n",
    "            print(str3,\"<\",str2,\"<\",str1)"
   ]
  },
  {
   "cell_type": "markdown",
   "metadata": {},
   "source": [
    "## Question 5"
   ]
  },
  {
   "cell_type": "markdown",
   "metadata": {},
   "source": [
    "**Write an algorithm/flowchart and then convert it to program that requests three integer values from the user. It then prints one of two things: if any of the values entered are duplicates, it prints “DUPLICATES”; otherwise, it prints “ALL UNIQUE”.**"
   ]
  },
  {
   "cell_type": "code",
   "execution_count": 28,
   "metadata": {},
   "outputs": [
    {
     "name": "stdout",
     "output_type": "stream",
     "text": [
      "Enter number 1 -1\n",
      "Enter number 2 -2\n",
      "Enter number 3 -1\n",
      "Duplicates!\n"
     ]
    }
   ],
   "source": [
    "number1 = int(input(\"Enter number 1 -\" ))\n",
    "number2 = int(input(\"Enter number 2 -\" ))\n",
    "number3 = int(input(\"Enter number 3 -\" ))\n",
    "\n",
    "if number1 == number2 or number1 == number3 or number2 == number3 :\n",
    "    print (\"Duplicates!\")\n",
    "else:\n",
    "    print (\"All are unique!\")"
   ]
  },
  {
   "cell_type": "code",
   "execution_count": null,
   "metadata": {},
   "outputs": [],
   "source": []
  }
 ],
 "metadata": {
  "kernelspec": {
   "display_name": "Python 3",
   "language": "python",
   "name": "python3"
  },
  "language_info": {
   "codemirror_mode": {
    "name": "ipython",
    "version": 3
   },
   "file_extension": ".py",
   "mimetype": "text/x-python",
   "name": "python",
   "nbconvert_exporter": "python",
   "pygments_lexer": "ipython3",
   "version": "3.7.6"
  }
 },
 "nbformat": 4,
 "nbformat_minor": 2
}
