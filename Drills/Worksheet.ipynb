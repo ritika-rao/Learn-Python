{
 "cells": [
  {
   "cell_type": "code",
   "execution_count": 1,
   "metadata": {},
   "outputs": [
    {
     "name": "stdout",
     "output_type": "stream",
     "text": [
      "Enter value of Pascal Triangle7\n",
      "1 \n",
      "\n",
      "1 1 \n",
      "\n",
      "1 2 1 \n",
      "\n",
      "1 3 3 1 \n",
      "\n",
      "1 4 6 4 1 \n",
      "\n",
      "1 5 10 10 5 1 \n",
      "\n",
      "1 6 15 20 15 6 1 \n",
      "\n"
     ]
    }
   ],
   "source": [
    "#PASCAL TRIANGLE\n",
    "def pascalTriangle(n):\n",
    "    for line in range(1,n+1):\n",
    "        s=1\n",
    "        for i in range(1,line+1):\n",
    "            print(s,end=\" \")\n",
    "            s=s*(line-i)//i\n",
    "        print('\\n')\n",
    "pascal=int(input('Enter value of Pascal Triangle'))\n",
    "pascalTriangle(pascal)"
   ]
  },
  {
   "cell_type": "code",
   "execution_count": 2,
   "metadata": {},
   "outputs": [
    {
     "name": "stdout",
     "output_type": "stream",
     "text": [
      "65\n",
      "pizza\n",
      "hi\n"
     ]
    }
   ],
   "source": [
    "def retrieve():#function\n",
    "    l=[64,65,78,{'item':'pizza'},{0:'hello'},['hi','eat']]\n",
    "    print(l[1])\n",
    "    print(l[3]['item'])\n",
    "    print(l[5][0])\n",
    "#main    \n",
    "retrieve()"
   ]
  },
  {
   "cell_type": "code",
   "execution_count": 7,
   "metadata": {},
   "outputs": [
    {
     "name": "stdout",
     "output_type": "stream",
     "text": [
      "\n",
      "[59, 68, 47, 8, 42]\n",
      "Check another condn\n",
      "LOOSER\n"
     ]
    }
   ],
   "source": [
    "import random\n",
    "flag=1\n",
    "while(flag==1):\n",
    "    print(\"\")\n",
    "    #int in range(1,101)\n",
    "    value1=\"\"\n",
    "    count=0\n",
    "    count1=0\n",
    "    lst1=[]\n",
    "    \n",
    "    for i in range(5):\n",
    "        value1=\"\"\n",
    "        for p in range(1):\n",
    "            value1=random.randint(1,101)\n",
    "      #  print(value1)\n",
    "            lst1.append(value1)\n",
    "    print(lst1)\n",
    "    \n",
    "    for q in range(5):\n",
    "        if(lst1[q]>70 or lst1[q]==70):\n",
    "            count1=count1+1\n",
    "            if((lst1[q]>50)):\n",
    "                count=count+1\n",
    "            \n",
    "    if(count>1):\n",
    "        print('WINNER')\n",
    "    else:\n",
    "        print('Check another condn')\n",
    "       \n",
    "    if(count1>2):\n",
    "        print('Another chance')\n",
    "        flag=1\n",
    "    else:\n",
    "        print('LOOSER')\n",
    "        flag=2"
   ]
  },
  {
   "cell_type": "code",
   "execution_count": 6,
   "metadata": {},
   "outputs": [
    {
     "name": "stdout",
     "output_type": "stream",
     "text": [
      "NAME: fghjk\n",
      "AGE: 46\n",
      "SALARY: 345678\n",
      "PHONE NO.: 2345678\n",
      "ADDRESS: sdfgh5678\n",
      "['fghjk', 46, 345678, 2345678, 'sdfgh5678']\n",
      "Want to add another employee press 1 else 2: 1\n",
      "NAME: ertfghj\n",
      "AGE: 4\n",
      "SALARY: 2345678\n",
      "PHONE NO.: 987653\n",
      "ADDRESS: dfgh456\n",
      "['ertfghj', 4, 2345678, 987653, 'dfgh456']\n",
      "Want to add another employee press 1 else 2: 2\n",
      "[['fghjk', 46, 345678, 2345678, 'sdfgh5678'], ['ertfghj', 4, 2345678, 987653, 'dfgh456']]\n"
     ]
    }
   ],
   "source": [
    "flag=1\n",
    "l2=[]\n",
    "while(flag==1):\n",
    "    l1=[]\n",
    "    n1=input('NAME: ')\n",
    "    l1.append(n1)\n",
    "    n2=int(input('AGE: '))\n",
    "    l1.append(n2)\n",
    "    n3=int(input('SALARY: '))\n",
    "    l1.append(n3)\n",
    "    n4=int(input('PHONE NO.: '))\n",
    "    l1.append(n4)\n",
    "    n5=input('ADDRESS: ')\n",
    "    l1.append(n5)\n",
    "    print(l1)\n",
    "    l2.append(l1)\n",
    "    n6=input('Want to add another employee press 1 else 2: ')\n",
    "    if(n6=='1'):\n",
    "        flag=1\n",
    "    else:\n",
    "        break\n",
    "print(l2)"
   ]
  },
  {
   "cell_type": "code",
   "execution_count": null,
   "metadata": {},
   "outputs": [],
   "source": [
    "flag=1\n",
    "l2=[]\n",
    "while(flag==1):\n",
    "    l1=[]\n",
    "    n1=input('NAME: ')\n",
    "    l1.append(n1)\n",
    "    n2=int(input('AGE: '))\n",
    "    l1.append(n2)\n",
    "    n3=int(input('SALARY: '))\n",
    "    l1.append(n3)\n",
    "    n4=int(input('PHONE NO.: '))\n",
    "    l1.append(n4)\n",
    "    n5=input('ADDRESS: ')\n",
    "    l1.append(n5)\n",
    "    print(l1)\n",
    "    l2.append(l1)\n",
    "    n6=input('Want to add another employee press 1 else 2: ')\n",
    "    if(n6=='1'):\n",
    "        flag=1\n",
    "    else:\n",
    "        break\n",
    "print(l2)"
   ]
  },
  {
   "cell_type": "code",
   "execution_count": null,
   "metadata": {},
   "outputs": [],
   "source": []
  }
 ],
 "metadata": {
  "kernelspec": {
   "display_name": "Python 3",
   "language": "python",
   "name": "python3"
  },
  "language_info": {
   "codemirror_mode": {
    "name": "ipython",
    "version": 3
   },
   "file_extension": ".py",
   "mimetype": "text/x-python",
   "name": "python",
   "nbconvert_exporter": "python",
   "pygments_lexer": "ipython3",
   "version": "3.7.3"
  }
 },
 "nbformat": 4,
 "nbformat_minor": 2
}
