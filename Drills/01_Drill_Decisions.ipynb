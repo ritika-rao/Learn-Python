{
 "cells": [
  {
   "cell_type": "markdown",
   "metadata": {},
   "source": [
    "# Exercises"
   ]
  },
  {
   "cell_type": "markdown",
   "metadata": {},
   "source": [
    "## Question 1"
   ]
  },
  {
   "cell_type": "markdown",
   "metadata": {},
   "source": [
    "**Write a program that inputs a number from user and checks whether number is positive or negative.**"
   ]
  },
  {
   "cell_type": "code",
   "execution_count": 5,
   "metadata": {},
   "outputs": [
    {
     "name": "stdout",
     "output_type": "stream",
     "text": [
      "Enter a number: 67\n",
      "Positive number\n"
     ]
    }
   ],
   "source": [
    "num = float(input(\"Enter a number: \"))\n",
    "if num > 0:\n",
    "    print(\"Positive number\")\n",
    "elif num == 0:\n",
    "    print(\"Zero\")\n",
    "else:\n",
    "    print(\"Negative number\")"
   ]
  },
  {
   "cell_type": "markdown",
   "metadata": {},
   "source": [
    "## Question 2"
   ]
  },
  {
   "cell_type": "markdown",
   "metadata": {},
   "source": [
    "**Write a program that inputs a number from user and checks whether number is even or odd.**"
   ]
  },
  {
   "cell_type": "code",
   "execution_count": 6,
   "metadata": {},
   "outputs": [
    {
     "name": "stdout",
     "output_type": "stream",
     "text": [
      "Enter a number: 56\n",
      "56 is Even\n"
     ]
    }
   ],
   "source": [
    "num = int(input(\"Enter a number: \"))\n",
    "if (num % 2) == 0:\n",
    "    print(num, \"is Even\")\n",
    "else:\n",
    "    print(num, \"is Odd\")"
   ]
  },
  {
   "cell_type": "markdown",
   "metadata": {},
   "source": [
    "## Question 3"
   ]
  },
  {
   "cell_type": "markdown",
   "metadata": {},
   "source": [
    "**Write a program that checks whether a given year is leap year or not.**"
   ]
  },
  {
   "cell_type": "code",
   "execution_count": 7,
   "metadata": {},
   "outputs": [
    {
     "name": "stdout",
     "output_type": "stream",
     "text": [
      "2000  is a leap year\n"
     ]
    }
   ],
   "source": [
    "year = 2000\n",
    "\n",
    "if (year % 4) == 0:\n",
    "   if (year % 100) == 0:\n",
    "       if (year % 400) == 0:\n",
    "           print(year,\" is a leap year\")\n",
    "       else:\n",
    "           print(year,\" is not a leap year\")\n",
    "   else:\n",
    "       print(year,\" is a leap year\")\n",
    "else:\n",
    "   print(year,\" is not a leap year\")"
   ]
  },
  {
   "cell_type": "markdown",
   "metadata": {},
   "source": [
    "## Question 4"
   ]
  },
  {
   "cell_type": "markdown",
   "metadata": {},
   "source": [
    "**Write a program that finds greatest among three numbers.**"
   ]
  },
  {
   "cell_type": "code",
   "execution_count": 9,
   "metadata": {},
   "outputs": [
    {
     "name": "stdout",
     "output_type": "stream",
     "text": [
      "The largest number between 10 , 14 and 12 is 14\n"
     ]
    }
   ],
   "source": [
    "num1 = 10\n",
    "num2 = 14\n",
    "num3 = 12\n",
    "\n",
    "if (num1 >= num2) and (num1 >= num3):\n",
    "   largest = num1\n",
    "elif (num2 >= num1) and (num2 >= num3):\n",
    "   largest = num2\n",
    "else:\n",
    "   largest = num3\n",
    "\n",
    "print(\"The largest number between\",num1,\",\",num2,\"and\",num3,\"is\",largest)"
   ]
  },
  {
   "cell_type": "markdown",
   "metadata": {},
   "source": [
    "## Question 5"
   ]
  },
  {
   "cell_type": "markdown",
   "metadata": {},
   "source": [
    "**You’re on a long car trip and arrive at a gas station. It’s $200$ km to the next station.\n",
    "Write a program to figure out if you need to buy gas here, or if you can wait for the\n",
    "next station.**\n",
    "\n",
    "**The program should ask these questions:**\n",
    "\n",
    "**•\tHow big is your gas tank, in litres?**\n",
    "\n",
    "**•\tHow full is your tank (in percent—for example, half full = $50$)?**\n",
    "\n",
    "**•\tHow many km per litre does your car get?**\n",
    "\n",
    "**The output should look something like this**\n",
    "\n",
    "**Size of tank: $60$**\n",
    "\n",
    "**percent full: $40$**\n",
    "\n",
    "**km per liter: $10$**"
   ]
  },
  {
   "cell_type": "code",
   "execution_count": 3,
   "metadata": {},
   "outputs": [
    {
     "name": "stdout",
     "output_type": "stream",
     "text": [
      "Enter tank size:45\n",
      "Enter what percentage of tank is filled:50\n",
      "Enter how many km per litre does your car get:12\n",
      "wait for next station\n"
     ]
    }
   ],
   "source": [
    "tanksize = int(input(\"Enter tank size:\"))\n",
    "percentagefull = int(input(\"Enter what percentage of tank is filled:\"))\n",
    "kmperlitre = int(input(\"Enter how many km per litre does your car get:\"))\n",
    "nextstation=200\n",
    "tankcanrun=(percentagefull/100)*tanksize*kmperlitre\n",
    "if tankcanrun>200:\n",
    "    print(\"wait for next station\")\n",
    "else:\n",
    "    print(\"Buy gas here\")"
   ]
  },
  {
   "cell_type": "markdown",
   "metadata": {},
   "source": [
    "## Question 6"
   ]
  },
  {
   "cell_type": "markdown",
   "metadata": {},
   "source": [
    "**Suppose we want to know if the solutions to the quadratic equation**\n",
    "\n",
    "$a * x ^ 2 + b * x + c = 0$\n",
    "\n",
    "**are real, imaginary, or complex for a given set of coefficients a, b, and c.**\n",
    "\n",
    "**Of course, the answer to that question depends on the value of the discriminant $d=b^2-4ac$. The solutions are real if d >= 0, imaginary if b=0 and d < 0, and complex if b!= 0 and d < 0. Implement the above logic in a Python program.**"
   ]
  },
  {
   "cell_type": "code",
   "execution_count": 2,
   "metadata": {},
   "outputs": [
    {
     "name": "stdout",
     "output_type": "stream",
     "text": [
      "What is the coefficients a? 6\n",
      "What is the coefficients b? 4\n",
      "What is the coefficients c? 6\n",
      "Solutions are complex\n",
      "Finished!\n"
     ]
    }
   ],
   "source": [
    "a = float(input(\"What is the coefficients a? \"))\n",
    "b = float(input(\"What is the coefficients b? \"))\n",
    "c = float(input(\"What is the coefficients c? \"))\n",
    "\n",
    "d = b*b - 4*a*c\n",
    "\n",
    "if d >= 0.0:\n",
    "    print(\"Solutions are real\")         \n",
    "elif b == 0.0:\n",
    "    print(\"Solutions are imaginary\")    \n",
    "else:\n",
    "    print(\"Solutions are complex\")      \n",
    "\n",
    "print(\"Finished!\")"
   ]
  },
  {
   "cell_type": "markdown",
   "metadata": {},
   "source": [
    "## Question 7"
   ]
  },
  {
   "cell_type": "markdown",
   "metadata": {},
   "source": [
    "**A store is having a sale. It’s giving 10 percent off on purchases of 10 dollars or lower, and 20 percent off purchases of greater than 10 dollars. Write a program that asks the purchase price and displays the discount (10 or 20) and the final price.**"
   ]
  },
  {
   "cell_type": "code",
   "execution_count": 1,
   "metadata": {},
   "outputs": [
    {
     "name": "stdout",
     "output_type": "stream",
     "text": [
      "Enter the purchase: 35\n",
      "Discount Applicable is 20%\n",
      "Final Bill after discount is: 28.0\n"
     ]
    }
   ],
   "source": [
    "purchaseamount = float(input(\"Enter the purchase: \"))\n",
    "if purchaseamount <= 10:\n",
    "    print(\"Discount Applicable is 10%\")\n",
    "    discount=(10*purchaseamount)/100\n",
    "    billamount= purchaseamount-discount\n",
    "    print (\"Final Bill after discount is:\", billamount)\n",
    "else:\n",
    "    print(\"Discount Applicable is 20%\")\n",
    "    discount=(20*purchaseamount)/100\n",
    "    billamount= purchaseamount-discount\n",
    "    print (\"Final Bill after discount is:\", billamount)"
   ]
  },
  {
   "cell_type": "markdown",
   "metadata": {},
   "source": [
    "## Question 8"
   ]
  },
  {
   "cell_type": "markdown",
   "metadata": {},
   "source": [
    "**A soccer team is looking for girls from ages 10 to 12 to play on their team. Write a program to ask the user’s age and whether the user is male or female (using “m” or “f”). Display a message indicating whether the person is eligible to play on the team.\n",
    "Bonus: Make the program so that it doesn’t ask for the age unless the user is a girl.**"
   ]
  },
  {
   "cell_type": "code",
   "execution_count": 2,
   "metadata": {},
   "outputs": [
    {
     "name": "stdout",
     "output_type": "stream",
     "text": [
      "Enter 1 for male and 2 for female:2\n",
      "Enter your age:11\n",
      "You are eligible\n"
     ]
    }
   ],
   "source": [
    "gender = int(input(\"Enter 1 for male and 2 for female:\"))\n",
    "if gender==(1):\n",
    "    print(\"Sorry! You are not eligible\")\n",
    "else:\n",
    "    age=int(input(\"Enter your age:\"))\n",
    "    if age>=10 and age<=12:\n",
    "        print(\"You are eligible\")\n",
    "    else:\n",
    "        print(\"Sorry! You are not eligible\")"
   ]
  },
  {
   "cell_type": "markdown",
   "metadata": {},
   "source": [
    "## Question 9"
   ]
  },
  {
   "cell_type": "markdown",
   "metadata": {},
   "source": [
    "**Write a python program to display the Chinese zodiac sign for a person according to his birth year.**\n",
    "\n",
    "**The Chinese zodiac sign is based on a 12-year cycle, and each year in this cycle is represented by an animal—\n",
    "monkey, rooster, dog, pig, rat, ox, tiger, rabbit, dragon, snake, horse, and sheep.**\n",
    "\n"
   ]
  },
  {
   "cell_type": "code",
   "execution_count": 6,
   "metadata": {},
   "outputs": [
    {
     "name": "stdout",
     "output_type": "stream",
     "text": [
      "Enter a year: 2000\n",
      "dragon\n"
     ]
    }
   ],
   "source": [
    "year = eval(input(\"Enter a year: \"))\n",
    "zodiacYear = year % 12\n",
    "if zodiacYear == 0:\n",
    "    print(\"monkey\")\n",
    "elif zodiacYear == 1:\n",
    "    print(\"rooster\")\n",
    "elif zodiacYear == 2:\n",
    "    print(\"dog\")\n",
    "elif zodiacYear == 3:\n",
    "    print(\"pig\")\n",
    "elif zodiacYear == 4:\n",
    "    print(\"rat\")\n",
    "elif zodiacYear == 5:\n",
    "    print(\"ox\")\n",
    "elif zodiacYear == 6:\n",
    "    print(\"tiger\")\n",
    "elif zodiacYear == 7:\n",
    "    print(\"rabbit\")\n",
    "elif zodiacYear == 8:\n",
    "    print(\"dragon\")\n",
    "elif zodiacYear == 9:\n",
    "    print(\"snake\")\n",
    "elif zodiacYear == 10:\n",
    "    print(\"horse\")\n",
    "else:\n",
    "    print(\"sheep\")"
   ]
  },
  {
   "cell_type": "markdown",
   "metadata": {},
   "source": [
    "## Question 10"
   ]
  },
  {
   "cell_type": "markdown",
   "metadata": {},
   "source": [
    "**Write a program that prompts the user to enter a weight in kilograms and height in metres and then displays the BMI and its interpretation.** \n",
    "\n",
    "**If BMI is Below $18.5$, it is interpreted as Underweight. <br>\n",
    "If BMI is from $18.5–24.9$, it is interpreted as Normal. <br>\n",
    "If BMI is from $25.0–29.9$, it is interpreted as Overweight. <br>\n",
    "else If BMI is Above $30.0$, it is interpreted as Obese.**\n"
   ]
  },
  {
   "cell_type": "code",
   "execution_count": 1,
   "metadata": {},
   "outputs": [
    {
     "name": "stdout",
     "output_type": "stream",
     "text": [
      "Enter weight in kilograms: 45\n",
      "Enter height in metres: 7\n",
      "BMI is 0.92\n",
      "Underweight\n"
     ]
    }
   ],
   "source": [
    "weight = float(input(\"Enter weight in kilograms: \"))\n",
    "height = float(input(\"Enter height in metres: \"))\n",
    "bmi = weight / (height * height)\n",
    "print(\"BMI is\", format(bmi, \".2f\"))\n",
    "if bmi < 18.5:\n",
    "    print(\"Underweight\")\n",
    "elif bmi < 25:\n",
    "    print(\"Normal\")\n",
    "elif bmi < 30:\n",
    "    print(\"Overweight\")\n",
    "else:\n",
    "    print(\"Obese\")"
   ]
  },
  {
   "cell_type": "code",
   "execution_count": null,
   "metadata": {},
   "outputs": [],
   "source": []
  }
 ],
 "metadata": {
  "kernelspec": {
   "display_name": "Python 3",
   "language": "python",
   "name": "python3"
  },
  "language_info": {
   "codemirror_mode": {
    "name": "ipython",
    "version": 3
   },
   "file_extension": ".py",
   "mimetype": "text/x-python",
   "name": "python",
   "nbconvert_exporter": "python",
   "pygments_lexer": "ipython3",
   "version": "3.7.6"
  }
 },
 "nbformat": 4,
 "nbformat_minor": 2
}
