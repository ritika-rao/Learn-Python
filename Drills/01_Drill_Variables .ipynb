{
 "cells": [
  {
   "cell_type": "markdown",
   "metadata": {},
   "source": [
    "# Exercise"
   ]
  },
  {
   "cell_type": "markdown",
   "metadata": {},
   "source": [
    "## Question 1"
   ]
  },
  {
   "cell_type": "markdown",
   "metadata": {},
   "source": [
    "Just like in the last chapter, in interactive mode, get Python to **calculate the number of\n",
    "minutes** in a week. But this time, use variables. Make variables for **DaysPerWeek,\n",
    "HoursPerDay, and MinutesPerHour** (or make up your own names), and then multiply\n",
    "them together.\n"
   ]
  },
  {
   "cell_type": "code",
   "execution_count": 3,
   "metadata": {},
   "outputs": [
    {
     "name": "stdout",
     "output_type": "stream",
     "text": [
      "10080\n"
     ]
    }
   ],
   "source": [
    "DaysPerWeek=7\n",
    "HoursPerDay=24\n",
    "MinutesPerHour=60\n",
    "NumberOfminsinweek=DaysPerWeek*HoursPerDay*MinutesPerHour\n",
    "print(NumberOfminsinweek)"
   ]
  },
  {
   "cell_type": "markdown",
   "metadata": {},
   "source": [
    "## Question 2"
   ]
  },
  {
   "cell_type": "markdown",
   "metadata": {},
   "source": [
    "People are always saying there’s not enough time to get everything done. How many\n",
    "minutes would there be in a week if there were 26 hours in a day?\n",
    "\n",
    "**(Hint: Change the HoursPerDay variable.)**\n"
   ]
  },
  {
   "cell_type": "code",
   "execution_count": 4,
   "metadata": {},
   "outputs": [
    {
     "name": "stdout",
     "output_type": "stream",
     "text": [
      "10920\n"
     ]
    }
   ],
   "source": [
    "DaysPerWeek=7\n",
    "HoursPerDay=26\n",
    "MinutesPerHour=60\n",
    "NumberOfminsinweek=DaysPerWeek*HoursPerDay*MinutesPerHour\n",
    "print(NumberOfminsinweek)"
   ]
  },
  {
   "cell_type": "markdown",
   "metadata": {},
   "source": [
    "## Question 3"
   ]
  },
  {
   "cell_type": "markdown",
   "metadata": {},
   "source": [
    "Let's use **Pythagoras theorem** to calculate the **length of the hypotenuse** of a right-angled triangle where the other sides have lengths 3 and 4."
   ]
  },
  {
   "cell_type": "code",
   "execution_count": 7,
   "metadata": {},
   "outputs": [
    {
     "name": "stdout",
     "output_type": "stream",
     "text": [
      "5.0\n"
     ]
    }
   ],
   "source": [
    "Height=4\n",
    "Base= 3\n",
    "Hypotenuse=((Height**2)+(Base**2))**0.5\n",
    "print(Hypotenuse)"
   ]
  },
  {
   "cell_type": "markdown",
   "metadata": {},
   "source": [
    "**Note: You can use ** for power.**"
   ]
  },
  {
   "cell_type": "markdown",
   "metadata": {},
   "source": [
    "## Question 4"
   ]
  },
  {
   "cell_type": "markdown",
   "metadata": {},
   "source": [
    "Write a simple Python program that displays the following **powers of 2**, one per line: $$2^1, 2^2, 2^3, 2^4, 2^5, 2^6, 2^7, 2^8$$"
   ]
  },
  {
   "cell_type": "code",
   "execution_count": 9,
   "metadata": {},
   "outputs": [
    {
     "name": "stdout",
     "output_type": "stream",
     "text": [
      "2^1\n"
     ]
    }
   ],
   "source": [
    "print ('2\n",
    "1')"
   ]
  },
  {
   "cell_type": "markdown",
   "metadata": {},
   "source": [
    "## Question 5"
   ]
  },
  {
   "cell_type": "markdown",
   "metadata": {},
   "source": [
    "**Write a Python program that allows the user to enter any integer value, and displays the value of 2 raised to that power. Your program should function as shown below.**\n",
    "\n",
    "What power of two? 10\n",
    "\n",
    "Two to the power of 10 is 1024"
   ]
  },
  {
   "cell_type": "code",
   "execution_count": 18,
   "metadata": {},
   "outputs": [
    {
     "name": "stdout",
     "output_type": "stream",
     "text": [
      "What power of two ? :3\n",
      "Two to the power of  3 is : 8\n"
     ]
    }
   ],
   "source": [
    "n = int(input ('What power of two ? :'))\n",
    "b = 2**n\n",
    "print ('Two to the power of ',n,'is :', b) "
   ]
  },
  {
   "cell_type": "markdown",
   "metadata": {},
   "source": [
    "## Question 6"
   ]
  },
  {
   "cell_type": "markdown",
   "metadata": {},
   "source": [
    "**Write a Python program that allows the user to enter any integer base and integer exponent, and displays the value of the base raised to that exponent. Your program should function as shown below.**\n",
    "\n",
    "What base? 10\n",
    "\n",
    "What power? 4\n",
    "\n",
    "10 to the power of 4 is 10000"
   ]
  },
  {
   "cell_type": "code",
   "execution_count": null,
   "metadata": {},
   "outputs": [],
   "source": [
    "a = int(input ('What  base ? :'))\n",
    "print (\"Base is\",a)\n",
    "n = int(input ('What power   of? :'))\n",
    "print (\"power is\",n)\n",
    "b = a**n\n",
    "print (a,' to the power of ',n,'is :', b) "
   ]
  },
  {
   "cell_type": "markdown",
   "metadata": {},
   "source": [
    "## Question 7"
   ]
  },
  {
   "cell_type": "code",
   "execution_count": null,
   "metadata": {},
   "outputs": [],
   "source": [
    "**Write a Python program that allows the user to enter a four-digit binary number and displays its value in base 10. Each binary digit should be entered one per line, starting with the leftmost digit, as shown below.**\n",
    "\n",
    "Enter leftmost digit: 1\n",
    "\n",
    "Enter the next digit: 0\n",
    "\n",
    "Enter the next digit: 0\n",
    "\n",
    "Enter the next digit: 1\n",
    "\n",
    "The value is 9"
   ]
  },
  {
   "cell_type": "code",
   "execution_count": 3,
   "metadata": {},
   "outputs": [
    {
     "name": "stdout",
     "output_type": "stream",
     "text": [
      "Enter the digits from left to right\n",
      "Enter Extreme left digit:\n",
      "Enter extreme left digit:1\n",
      "Enter extreme next digit:1\n",
      "Enter extreme next digit:1\n",
      "Enter extreme next digit:1\n",
      "The entered binary number is: 1 1 1 1\n",
      "The value of entered binary number is : 15\n"
     ]
    }
   ],
   "source": [
    "print('Enter the digits from left to right\\nEnter Extreme left digit:')\n",
    "a = int(input('Enter extreme left digit:'))\n",
    "b = int(input('Enter next digit:'))\n",
    "c = int(input('Enter next digit:'))\n",
    "d = int(input('Enter next digit:'))\n",
    "print('The entered binary number is:',a,b,c,d)\n",
    "e = ((2**0) * d)+((2**1) *c)+((2**2) *b)+((2**3) *a)\n",
    "print('The value of entered binary number is :',e)\n",
    "\n"
   ]
  },
  {
   "cell_type": "markdown",
   "metadata": {},
   "source": [
    "## Question 8"
   ]
  },
  {
   "cell_type": "markdown",
   "metadata": {},
   "source": [
    "**Write a simple Python program that prompts the user for a certain number of cities for the Traveling Salesman problem, and displays the total number of possible routes that can be taken. Your program should function as shown below.**\n",
    "\n",
    "How many cities? 10\n",
    "\n",
    "For 10 cities, there are 3628800 possible route"
   ]
  },
  {
   "cell_type": "markdown",
   "metadata": {},
   "source": [
    "**Hint: Use library Math (import math) and use function factorial from it.  Factorial takes one argument in bracket (*math.factorial(x)*).**"
   ]
  },
  {
   "cell_type": "code",
   "execution_count": 9,
   "metadata": {},
   "outputs": [
    {
     "name": "stdout",
     "output_type": "stream",
     "text": [
      "Enter the number of cities:5\n",
      "For 5 cities there are  120 possible routes\n"
     ]
    }
   ],
   "source": [
    "import math\n",
    "a=int(input('Enter the number of cities:'))\n",
    "b=(math.factorial(a))\n",
    "print('For',a,'cities there are ',b,'possible routes')"
   ]
  },
  {
   "cell_type": "code",
   "execution_count": null,
   "metadata": {},
   "outputs": [],
   "source": []
  },
  {
   "cell_type": "code",
   "execution_count": null,
   "metadata": {},
   "outputs": [],
   "source": []
  },
  {
   "cell_type": "code",
   "execution_count": null,
   "metadata": {},
   "outputs": [],
   "source": []
  },
  {
   "cell_type": "code",
   "execution_count": null,
   "metadata": {},
   "outputs": [],
   "source": []
  },
  {
   "cell_type": "code",
   "execution_count": null,
   "metadata": {},
   "outputs": [],
   "source": []
  },
  {
   "cell_type": "code",
   "execution_count": null,
   "metadata": {},
   "outputs": [],
   "source": []
  },
  {
   "cell_type": "code",
   "execution_count": null,
   "metadata": {},
   "outputs": [],
   "source": []
  },
  {
   "cell_type": "code",
   "execution_count": null,
   "metadata": {},
   "outputs": [],
   "source": []
  },
  {
   "cell_type": "code",
   "execution_count": null,
   "metadata": {},
   "outputs": [],
   "source": []
  },
  {
   "cell_type": "code",
   "execution_count": null,
   "metadata": {},
   "outputs": [],
   "source": []
  }
 ],
 "metadata": {
  "kernelspec": {
   "display_name": "Python 3",
   "language": "python",
   "name": "python3"
  },
  "language_info": {
   "codemirror_mode": {
    "name": "ipython",
    "version": 3
   },
   "file_extension": ".py",
   "mimetype": "text/x-python",
   "name": "python",
   "nbconvert_exporter": "python",
   "pygments_lexer": "ipython3",
   "version": "3.7.6"
  }
 },
 "nbformat": 4,
 "nbformat_minor": 2
}
